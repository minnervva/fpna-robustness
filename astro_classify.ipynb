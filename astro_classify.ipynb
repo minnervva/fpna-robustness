{
 "cells": [
  {
   "cell_type": "code",
   "execution_count": 1,
   "id": "305e7d38-4e1e-41fe-ac79-4c1257f164d8",
   "metadata": {},
   "outputs": [],
   "source": [
    "import pandas as pd\n",
    "import numpy as np\n",
    "import torch\n",
    "from utilities import *\n",
    "from linear_atomic import *\n",
    "from sklearn.preprocessing import StandardScaler\n",
    "from sklearn.model_selection import train_test_split\n",
    "import matplotlib.pyplot as plt\n",
    "import torchattacks\n",
    "import os\n",
    "torch.set_default_dtype(torch.float32)\n",
    "\n",
    "# https://www.kaggle.com/datasets/fedesoriano/stellar-classification-dataset-sdss17\n",
    "data = pd.read_csv(\"data/star_classification.csv\")#, nrows = 2000)\n",
    "\n",
    "def one_hot(array):\n",
    "    unique, inverse = np.unique(array, return_inverse=True)\n",
    "    onehot = np.eye(unique.shape[0])[inverse]\n",
    "    return onehot"
   ]
  },
  {
   "cell_type": "code",
   "execution_count": 2,
   "id": "d336fb34-22a1-43e0-9486-6ee48481429c",
   "metadata": {},
   "outputs": [
    {
     "data": {
      "text/html": [
       "<div>\n",
       "<style scoped>\n",
       "    .dataframe tbody tr th:only-of-type {\n",
       "        vertical-align: middle;\n",
       "    }\n",
       "\n",
       "    .dataframe tbody tr th {\n",
       "        vertical-align: top;\n",
       "    }\n",
       "\n",
       "    .dataframe thead th {\n",
       "        text-align: right;\n",
       "    }\n",
       "</style>\n",
       "<table border=\"1\" class=\"dataframe\">\n",
       "  <thead>\n",
       "    <tr style=\"text-align: right;\">\n",
       "      <th></th>\n",
       "      <th>obj_ID</th>\n",
       "      <th>alpha</th>\n",
       "      <th>delta</th>\n",
       "      <th>u</th>\n",
       "      <th>g</th>\n",
       "      <th>r</th>\n",
       "      <th>i</th>\n",
       "      <th>z</th>\n",
       "      <th>run_ID</th>\n",
       "      <th>rerun_ID</th>\n",
       "      <th>cam_col</th>\n",
       "      <th>field_ID</th>\n",
       "      <th>spec_obj_ID</th>\n",
       "      <th>class</th>\n",
       "      <th>redshift</th>\n",
       "      <th>plate</th>\n",
       "      <th>MJD</th>\n",
       "      <th>fiber_ID</th>\n",
       "    </tr>\n",
       "  </thead>\n",
       "  <tbody>\n",
       "    <tr>\n",
       "      <th>0</th>\n",
       "      <td>1.237661e+18</td>\n",
       "      <td>135.689107</td>\n",
       "      <td>32.494632</td>\n",
       "      <td>23.87882</td>\n",
       "      <td>22.27530</td>\n",
       "      <td>20.39501</td>\n",
       "      <td>19.16573</td>\n",
       "      <td>18.79371</td>\n",
       "      <td>3606</td>\n",
       "      <td>301</td>\n",
       "      <td>2</td>\n",
       "      <td>79</td>\n",
       "      <td>6.543777e+18</td>\n",
       "      <td>GALAXY</td>\n",
       "      <td>0.634794</td>\n",
       "      <td>5812</td>\n",
       "      <td>56354</td>\n",
       "      <td>171</td>\n",
       "    </tr>\n",
       "    <tr>\n",
       "      <th>1</th>\n",
       "      <td>1.237665e+18</td>\n",
       "      <td>144.826101</td>\n",
       "      <td>31.274185</td>\n",
       "      <td>24.77759</td>\n",
       "      <td>22.83188</td>\n",
       "      <td>22.58444</td>\n",
       "      <td>21.16812</td>\n",
       "      <td>21.61427</td>\n",
       "      <td>4518</td>\n",
       "      <td>301</td>\n",
       "      <td>5</td>\n",
       "      <td>119</td>\n",
       "      <td>1.176014e+19</td>\n",
       "      <td>GALAXY</td>\n",
       "      <td>0.779136</td>\n",
       "      <td>10445</td>\n",
       "      <td>58158</td>\n",
       "      <td>427</td>\n",
       "    </tr>\n",
       "    <tr>\n",
       "      <th>2</th>\n",
       "      <td>1.237661e+18</td>\n",
       "      <td>142.188790</td>\n",
       "      <td>35.582444</td>\n",
       "      <td>25.26307</td>\n",
       "      <td>22.66389</td>\n",
       "      <td>20.60976</td>\n",
       "      <td>19.34857</td>\n",
       "      <td>18.94827</td>\n",
       "      <td>3606</td>\n",
       "      <td>301</td>\n",
       "      <td>2</td>\n",
       "      <td>120</td>\n",
       "      <td>5.152200e+18</td>\n",
       "      <td>GALAXY</td>\n",
       "      <td>0.644195</td>\n",
       "      <td>4576</td>\n",
       "      <td>55592</td>\n",
       "      <td>299</td>\n",
       "    </tr>\n",
       "    <tr>\n",
       "      <th>3</th>\n",
       "      <td>1.237663e+18</td>\n",
       "      <td>338.741038</td>\n",
       "      <td>-0.402828</td>\n",
       "      <td>22.13682</td>\n",
       "      <td>23.77656</td>\n",
       "      <td>21.61162</td>\n",
       "      <td>20.50454</td>\n",
       "      <td>19.25010</td>\n",
       "      <td>4192</td>\n",
       "      <td>301</td>\n",
       "      <td>3</td>\n",
       "      <td>214</td>\n",
       "      <td>1.030107e+19</td>\n",
       "      <td>GALAXY</td>\n",
       "      <td>0.932346</td>\n",
       "      <td>9149</td>\n",
       "      <td>58039</td>\n",
       "      <td>775</td>\n",
       "    </tr>\n",
       "    <tr>\n",
       "      <th>4</th>\n",
       "      <td>1.237680e+18</td>\n",
       "      <td>345.282593</td>\n",
       "      <td>21.183866</td>\n",
       "      <td>19.43718</td>\n",
       "      <td>17.58028</td>\n",
       "      <td>16.49747</td>\n",
       "      <td>15.97711</td>\n",
       "      <td>15.54461</td>\n",
       "      <td>8102</td>\n",
       "      <td>301</td>\n",
       "      <td>3</td>\n",
       "      <td>137</td>\n",
       "      <td>6.891865e+18</td>\n",
       "      <td>GALAXY</td>\n",
       "      <td>0.116123</td>\n",
       "      <td>6121</td>\n",
       "      <td>56187</td>\n",
       "      <td>842</td>\n",
       "    </tr>\n",
       "    <tr>\n",
       "      <th>...</th>\n",
       "      <td>...</td>\n",
       "      <td>...</td>\n",
       "      <td>...</td>\n",
       "      <td>...</td>\n",
       "      <td>...</td>\n",
       "      <td>...</td>\n",
       "      <td>...</td>\n",
       "      <td>...</td>\n",
       "      <td>...</td>\n",
       "      <td>...</td>\n",
       "      <td>...</td>\n",
       "      <td>...</td>\n",
       "      <td>...</td>\n",
       "      <td>...</td>\n",
       "      <td>...</td>\n",
       "      <td>...</td>\n",
       "      <td>...</td>\n",
       "      <td>...</td>\n",
       "    </tr>\n",
       "    <tr>\n",
       "      <th>99995</th>\n",
       "      <td>1.237679e+18</td>\n",
       "      <td>39.620709</td>\n",
       "      <td>-2.594074</td>\n",
       "      <td>22.16759</td>\n",
       "      <td>22.97586</td>\n",
       "      <td>21.90404</td>\n",
       "      <td>21.30548</td>\n",
       "      <td>20.73569</td>\n",
       "      <td>7778</td>\n",
       "      <td>301</td>\n",
       "      <td>2</td>\n",
       "      <td>581</td>\n",
       "      <td>1.055431e+19</td>\n",
       "      <td>GALAXY</td>\n",
       "      <td>0.000000</td>\n",
       "      <td>9374</td>\n",
       "      <td>57749</td>\n",
       "      <td>438</td>\n",
       "    </tr>\n",
       "    <tr>\n",
       "      <th>99996</th>\n",
       "      <td>1.237679e+18</td>\n",
       "      <td>29.493819</td>\n",
       "      <td>19.798874</td>\n",
       "      <td>22.69118</td>\n",
       "      <td>22.38628</td>\n",
       "      <td>20.45003</td>\n",
       "      <td>19.75759</td>\n",
       "      <td>19.41526</td>\n",
       "      <td>7917</td>\n",
       "      <td>301</td>\n",
       "      <td>1</td>\n",
       "      <td>289</td>\n",
       "      <td>8.586351e+18</td>\n",
       "      <td>GALAXY</td>\n",
       "      <td>0.404895</td>\n",
       "      <td>7626</td>\n",
       "      <td>56934</td>\n",
       "      <td>866</td>\n",
       "    </tr>\n",
       "    <tr>\n",
       "      <th>99997</th>\n",
       "      <td>1.237668e+18</td>\n",
       "      <td>224.587407</td>\n",
       "      <td>15.700707</td>\n",
       "      <td>21.16916</td>\n",
       "      <td>19.26997</td>\n",
       "      <td>18.20428</td>\n",
       "      <td>17.69034</td>\n",
       "      <td>17.35221</td>\n",
       "      <td>5314</td>\n",
       "      <td>301</td>\n",
       "      <td>4</td>\n",
       "      <td>308</td>\n",
       "      <td>3.112008e+18</td>\n",
       "      <td>GALAXY</td>\n",
       "      <td>0.143366</td>\n",
       "      <td>2764</td>\n",
       "      <td>54535</td>\n",
       "      <td>74</td>\n",
       "    </tr>\n",
       "    <tr>\n",
       "      <th>99998</th>\n",
       "      <td>1.237661e+18</td>\n",
       "      <td>212.268621</td>\n",
       "      <td>46.660365</td>\n",
       "      <td>25.35039</td>\n",
       "      <td>21.63757</td>\n",
       "      <td>19.91386</td>\n",
       "      <td>19.07254</td>\n",
       "      <td>18.62482</td>\n",
       "      <td>3650</td>\n",
       "      <td>301</td>\n",
       "      <td>4</td>\n",
       "      <td>131</td>\n",
       "      <td>7.601080e+18</td>\n",
       "      <td>GALAXY</td>\n",
       "      <td>0.455040</td>\n",
       "      <td>6751</td>\n",
       "      <td>56368</td>\n",
       "      <td>470</td>\n",
       "    </tr>\n",
       "    <tr>\n",
       "      <th>99999</th>\n",
       "      <td>1.237661e+18</td>\n",
       "      <td>196.896053</td>\n",
       "      <td>49.464643</td>\n",
       "      <td>22.62171</td>\n",
       "      <td>21.79745</td>\n",
       "      <td>20.60115</td>\n",
       "      <td>20.00959</td>\n",
       "      <td>19.28075</td>\n",
       "      <td>3650</td>\n",
       "      <td>301</td>\n",
       "      <td>4</td>\n",
       "      <td>60</td>\n",
       "      <td>8.343152e+18</td>\n",
       "      <td>GALAXY</td>\n",
       "      <td>0.542944</td>\n",
       "      <td>7410</td>\n",
       "      <td>57104</td>\n",
       "      <td>851</td>\n",
       "    </tr>\n",
       "  </tbody>\n",
       "</table>\n",
       "<p>100000 rows × 18 columns</p>\n",
       "</div>"
      ],
      "text/plain": [
       "             obj_ID       alpha      delta         u         g         r  \\\n",
       "0      1.237661e+18  135.689107  32.494632  23.87882  22.27530  20.39501   \n",
       "1      1.237665e+18  144.826101  31.274185  24.77759  22.83188  22.58444   \n",
       "2      1.237661e+18  142.188790  35.582444  25.26307  22.66389  20.60976   \n",
       "3      1.237663e+18  338.741038  -0.402828  22.13682  23.77656  21.61162   \n",
       "4      1.237680e+18  345.282593  21.183866  19.43718  17.58028  16.49747   \n",
       "...             ...         ...        ...       ...       ...       ...   \n",
       "99995  1.237679e+18   39.620709  -2.594074  22.16759  22.97586  21.90404   \n",
       "99996  1.237679e+18   29.493819  19.798874  22.69118  22.38628  20.45003   \n",
       "99997  1.237668e+18  224.587407  15.700707  21.16916  19.26997  18.20428   \n",
       "99998  1.237661e+18  212.268621  46.660365  25.35039  21.63757  19.91386   \n",
       "99999  1.237661e+18  196.896053  49.464643  22.62171  21.79745  20.60115   \n",
       "\n",
       "              i         z  run_ID  rerun_ID  cam_col  field_ID   spec_obj_ID  \\\n",
       "0      19.16573  18.79371    3606       301        2        79  6.543777e+18   \n",
       "1      21.16812  21.61427    4518       301        5       119  1.176014e+19   \n",
       "2      19.34857  18.94827    3606       301        2       120  5.152200e+18   \n",
       "3      20.50454  19.25010    4192       301        3       214  1.030107e+19   \n",
       "4      15.97711  15.54461    8102       301        3       137  6.891865e+18   \n",
       "...         ...       ...     ...       ...      ...       ...           ...   \n",
       "99995  21.30548  20.73569    7778       301        2       581  1.055431e+19   \n",
       "99996  19.75759  19.41526    7917       301        1       289  8.586351e+18   \n",
       "99997  17.69034  17.35221    5314       301        4       308  3.112008e+18   \n",
       "99998  19.07254  18.62482    3650       301        4       131  7.601080e+18   \n",
       "99999  20.00959  19.28075    3650       301        4        60  8.343152e+18   \n",
       "\n",
       "        class  redshift  plate    MJD  fiber_ID  \n",
       "0      GALAXY  0.634794   5812  56354       171  \n",
       "1      GALAXY  0.779136  10445  58158       427  \n",
       "2      GALAXY  0.644195   4576  55592       299  \n",
       "3      GALAXY  0.932346   9149  58039       775  \n",
       "4      GALAXY  0.116123   6121  56187       842  \n",
       "...       ...       ...    ...    ...       ...  \n",
       "99995  GALAXY  0.000000   9374  57749       438  \n",
       "99996  GALAXY  0.404895   7626  56934       866  \n",
       "99997  GALAXY  0.143366   2764  54535        74  \n",
       "99998  GALAXY  0.455040   6751  56368       470  \n",
       "99999  GALAXY  0.542944   7410  57104       851  \n",
       "\n",
       "[100000 rows x 18 columns]"
      ]
     },
     "execution_count": 2,
     "metadata": {},
     "output_type": "execute_result"
    }
   ],
   "source": [
    "data"
   ]
  },
  {
   "cell_type": "code",
   "execution_count": 3,
   "id": "352cd632-bb1a-4b27-9d3c-836a12ddeb05",
   "metadata": {},
   "outputs": [
    {
     "data": {
      "text/plain": [
       "array(['GALAXY', 'QSO', 'STAR'], dtype=object)"
      ]
     },
     "execution_count": 3,
     "metadata": {},
     "output_type": "execute_result"
    }
   ],
   "source": [
    "data[\"class\"].unique()"
   ]
  },
  {
   "cell_type": "code",
   "execution_count": 4,
   "id": "284e2169-ffa7-4e93-84d5-581629f2e122",
   "metadata": {},
   "outputs": [],
   "source": [
    "xcols = [\"alpha\", \"delta\", \"u\", \"g\", \"r\", \"i\", \"z\", \"redshift\"]\n",
    "ycol = \"class\"\n",
    "classes = len(data[ycol].unique())\n",
    "\n",
    "X_train, X_test, y_train, y_test = train_test_split(data[xcols], data[ycol])\n",
    "\n",
    "scaler = StandardScaler()\n",
    "\n",
    "X_train_scaled = scaler.fit_transform(X_train.values)\n",
    "X_train = torch.tensor(scaler.transform(X_train.values)).to(torch.float32)\n",
    "y_train = torch.tensor(one_hot(y_train.values))\n",
    "X_test = torch.tensor(scaler.transform(X_test.values)).to(torch.float32)\n",
    "y_test = torch.tensor(one_hot(y_test.values))\n",
    "\n",
    "# Creating our dataset class\n",
    "class BuildData(torch.utils.data.Dataset):    \n",
    "    # Constructor\n",
    "    def __init__(self, x, y):\n",
    "        self.x = x\n",
    "        self.y = y\n",
    "        self.len = len(self.x)        \n",
    "    # Getting the data\n",
    "    def __getitem__(self, index):    \n",
    "        return self.x[index], self.y[index]    \n",
    "    # Getting length of the data\n",
    "    def __len__(self):\n",
    "        return self.len\n",
    "\n",
    "train_dataset = BuildData(X_train, y_train)\n",
    "test_dataset = BuildData(X_test, y_test)\n",
    "\n",
    "train_loader = torch.utils.data.DataLoader(dataset=train_dataset, batch_size = 200)#, shuffle=True)\n",
    "test_loader = torch.utils.data.DataLoader(dataset=test_dataset, batch_size = 1)"
   ]
  },
  {
   "cell_type": "code",
   "execution_count": 5,
   "id": "a610c02f-dde1-4e91-9eff-67c7b47e5223",
   "metadata": {},
   "outputs": [],
   "source": [
    "class Classifier(torch.nn.Module):\n",
    "    def __init__(self, atomics=False):\n",
    "        super(Classifier, self).__init__()\n",
    "        if atomics:\n",
    "            self.layer0 = AtomicLinear(len(xcols), 5*len(xcols))\n",
    "            self.layer1 = AtomicLinear(5*len(xcols), 5*len(xcols))\n",
    "            self.layer2 = AtomicLinear(5*len(xcols), classes)\n",
    "\n",
    "        else:\n",
    "            self.layer0 = torch.nn.Linear(len(xcols),5*len(xcols))\n",
    "            self.layer1 = torch.nn.Linear(5*len(xcols),5*len(xcols))\n",
    "            self.layer2 = torch.nn.Linear(5*len(xcols),classes)\n",
    "        \n",
    "        self.norm1 = torch.nn.BatchNorm1d(5*len(xcols))\n",
    "        self.norm2 = torch.nn.BatchNorm1d(5*len(xcols))\n",
    "        self.activation = torch.nn.ReLU()\n",
    "        self.probs = torch.nn.Softmax()\n",
    "        assign_fixed_params(self)\n",
    "\n",
    "    def forward(self,x):\n",
    "        y0 = self.norm1(self.activation(self.layer0(x)))\n",
    "        y1 = self.norm2(self.activation(self.layer1(y0)))\n",
    "        y2 = self.layer2(y1)\n",
    "        return y2\n",
    "        #return self.probs(y1)\n",
    "\n",
    "class ClassifierTest(torch.nn.Module):\n",
    "    def __init__(self, atomics=False):\n",
    "        super(ClassifierTest, self).__init__()\n",
    "        self.layer0 = AtomicLinearTest(len(xcols), 5*len(xcols))\n",
    "        self.layer1 = AtomicLinearTest(5*len(xcols), 5*len(xcols))\n",
    "        self.layer2 = AtomicLinearTest(5*len(xcols), classes)\n",
    "        \n",
    "        self.norm1 = torch.nn.BatchNorm1d(5*len(xcols))\n",
    "        self.norm2 = torch.nn.BatchNorm1d(5*len(xcols))\n",
    "        self.activation = torch.nn.ReLU()\n",
    "        self.probs = torch.nn.Softmax()\n",
    "        assign_fixed_params(self)\n",
    "\n",
    "    def forward(self,x):\n",
    "        y0 = self.norm1(self.activation(self.layer0(x)))\n",
    "        y1 = self.norm2(self.activation(self.layer1(y0)))\n",
    "        y2 = self.layer2(y1)\n",
    "        return y2\n",
    "        #return self.probs(y1)"
   ]
  },
  {
   "cell_type": "code",
   "execution_count": 6,
   "id": "258ded79-3026-4430-96b5-f8c3e1ba685c",
   "metadata": {},
   "outputs": [],
   "source": [
    "def train(model, dataloader, criterion, optimizer):\n",
    "    model.train()\n",
    "    for x,y in dataloader:\n",
    "        optimizer.zero_grad()\n",
    "        y_logits = model(x)\n",
    "        _, classtype = torch.max(y,1)\n",
    "        loss = criterion(y_logits, classtype)\n",
    "        loss.backward()\n",
    "        optimizer.step()\n",
    "    #print(loss)\n",
    "    #for param in model.parameters():\n",
    "    #    print(param.grad)\n",
    "    return loss\n",
    "\n",
    "def test(model, dataloader):\n",
    "    model.eval()\n",
    "    correct = 0\n",
    "    total = 0\n",
    "\n",
    "    with torch.no_grad():\n",
    "        for data, target in dataloader:\n",
    "            prediction_prob = model(data)\n",
    "            prediction = torch.argmax(prediction_prob, dim=1)\n",
    "            target = torch.argmax(target, dim=1)\n",
    "            for i in range(len(prediction)):\n",
    "                if prediction[i]==target[i]:\n",
    "                    correct+=1\n",
    "                total+=1\n",
    "    return correct, total"
   ]
  },
  {
   "cell_type": "code",
   "execution_count": 7,
   "id": "b46a82d6-0348-4f02-bc29-5100ba8eb78f",
   "metadata": {},
   "outputs": [],
   "source": [
    "def train_new_model(atomics: bool, epochs: int):\n",
    "    model = Classifier(atomics=atomics)\n",
    "    criterion = torch.nn.CrossEntropyLoss()\n",
    "    optimizer = torch.optim.SGD(model.parameters(), lr=1e-1)\n",
    "    scheduler = torch.optim.lr_scheduler.StepLR(optimizer, step_size=5, gamma=0.5)\n",
    "\n",
    "    loss_history = []\n",
    "    accuracy_history = []\n",
    "    for epoch in range(epochs):\n",
    "        loss = train(model, train_loader, criterion, optimizer).item()\n",
    "        correct,total = test(model, test_loader)\n",
    "        scheduler.step()\n",
    "        #print(loss, correct ,total)\n",
    "        loss_history.append(loss)\n",
    "        accuracy_history.append(100.0*(float(correct)/float(total)))\n",
    "\n",
    "    return model, loss_history, accuracy_history\n",
    "    "
   ]
  },
  {
   "cell_type": "code",
   "execution_count": 8,
   "id": "7599e195-62cd-449d-a2e2-0654a3e26645",
   "metadata": {},
   "outputs": [],
   "source": [
    "# note the numpy lists were the wrong shapes...\n",
    "\n",
    "#def save_to_files(models, losses, accuracies):\n",
    "#    for i,model in enumerate(models):\n",
    "#        torch.save(model.state_dict(), f\"atomic_models/model_{i}.pth\")\n",
    "\n",
    "#    np.save(\"atomic_models/losses.npy\", losses)\n",
    "#    np.save(\"atomic_models/accuracies.npy\", accuracies)\n",
    "\n",
    "#num_epochs = 25\n",
    "#num_models = 50\n",
    "#models=[]\n",
    "#losses=np.array([])\n",
    "#accuracies=np.array([])\n",
    "#for i in range(num_models):\n",
    "#    model, loss, accuracy = train_new_model(True, num_epochs)\n",
    "#    models.append(model)\n",
    "#    losses=np.append(losses,loss)\n",
    "#    accuracies=np.append(accuracies,accuracy)\n",
    "\n",
    "#    save_to_files(models,losses,accuracies)"
   ]
  },
  {
   "cell_type": "code",
   "execution_count": null,
   "id": "f3ef6b3c-d0bd-4fc9-b20b-d56db1d6220e",
   "metadata": {},
   "outputs": [],
   "source": []
  },
  {
   "cell_type": "code",
   "execution_count": null,
   "id": "68f02de9-782d-4ee4-800a-697122160ec8",
   "metadata": {},
   "outputs": [],
   "source": []
  },
  {
   "cell_type": "code",
   "execution_count": 21,
   "id": "1eb25e21-531b-4449-99dd-74a59c18d4b4",
   "metadata": {},
   "outputs": [],
   "source": [
    "#torch.save(model.state_dict(), f\"atomic_models/model.pth\")"
   ]
  },
  {
   "cell_type": "code",
   "execution_count": null,
   "id": "db31b19c-c396-4c7e-999c-bd1ff0d7ee81",
   "metadata": {},
   "outputs": [],
   "source": []
  },
  {
   "cell_type": "code",
   "execution_count": 11,
   "id": "7af9f8ab-0e5f-43e9-a77c-76647f0b099d",
   "metadata": {},
   "outputs": [],
   "source": [
    "num_epochs = 25\n",
    "num_models = 50\n",
    "losses = np.load(\"atomic_models/losses.npy\")\n",
    "accuracies = np.load(\"atomic_models/accuracies.npy\")\n",
    "models=[]\n",
    "for i in range(num_models):\n",
    "    model = Classifier(atomics=True)\n",
    "    model.load_state_dict(torch.load(f\"atomic_models/model_{i}.pth\"))\n",
    "    model.eval()\n",
    "    models.append(model)"
   ]
  },
  {
   "cell_type": "code",
   "execution_count": 20,
   "id": "b043c4a6-82c5-475d-a16e-487cc2ca83d4",
   "metadata": {},
   "outputs": [
    {
     "data": {
      "text/plain": [
       "(24178, 25000)"
      ]
     },
     "execution_count": 20,
     "metadata": {},
     "output_type": "execute_result"
    }
   ],
   "source": [
    "test(models[0], test_loader)"
   ]
  },
  {
   "cell_type": "code",
   "execution_count": null,
   "id": "a0defb2b-d97c-4403-8239-5516688b960c",
   "metadata": {},
   "outputs": [],
   "source": []
  },
  {
   "cell_type": "code",
   "execution_count": 21,
   "id": "f5192cda-4712-45ea-83f4-e7aab070c061",
   "metadata": {},
   "outputs": [],
   "source": [
    "losses = np.reshape(losses, (num_models,num_epochs))\n",
    "accuracies = np.reshape(accuracies, (num_models,num_epochs))"
   ]
  },
  {
   "cell_type": "code",
   "execution_count": 22,
   "id": "cd1dea30-8bc2-4871-89f0-c83f7fc409da",
   "metadata": {},
   "outputs": [
    {
     "data": {
      "text/plain": [
       "(50, 25)"
      ]
     },
     "execution_count": 22,
     "metadata": {},
     "output_type": "execute_result"
    }
   ],
   "source": [
    "accuracies.shape"
   ]
  },
  {
   "cell_type": "code",
   "execution_count": 23,
   "id": "67f31a38-509d-4aea-bfd6-fbc8267b446b",
   "metadata": {},
   "outputs": [
    {
     "data": {
      "image/png": "[encoded data removed]",
      "text/plain": [
       "<Figure size 640x480 with 1 Axes>"
      ]
     },
     "metadata": {},
     "output_type": "display_data"
    }
   ],
   "source": [
    "plt.errorbar(list(range(1,num_epochs+1)), np.mean(losses,axis=0), np.std(losses,axis=0),linestyle=\"None\",marker=\"o\")\n",
    "plt.show()"
   ]
  },
  {
   "cell_type": "code",
   "execution_count": 24,
   "id": "2099ec46-26ea-4bc1-85ae-c51e30cfb01c",
   "metadata": {},
   "outputs": [
    {
     "data": {
      "image/png": "[encoded data removed]",
      "text/plain": [
       "<Figure size 640x480 with 1 Axes>"
      ]
     },
     "metadata": {},
     "output_type": "display_data"
    }
   ],
   "source": [
    "plt.errorbar(list(range(num_epochs)), np.mean(accuracies,axis=0), np.std(accuracies,axis=0),linestyle=\"None\",marker=\"o\")\n",
    "plt.show()"
   ]
  },
  {
   "cell_type": "code",
   "execution_count": 25,
   "id": "e71d9dfb-b3ac-4e1d-893b-e02b6d5eec19",
   "metadata": {},
   "outputs": [
    {
     "data": {
      "text/plain": [
       "array([96.784, 96.792, 96.76 , 96.748, 96.768, 96.384, 96.796, 96.78 ,\n",
       "       96.744, 96.8  , 96.792, 96.804, 96.368, 96.788, 96.772, 96.812,\n",
       "       96.764, 96.784, 96.764, 96.744, 96.788, 96.764, 96.808, 96.804,\n",
       "       96.772, 96.784, 96.776, 96.788, 96.808, 96.772, 96.784, 96.608,\n",
       "       96.784, 96.756, 96.78 , 96.768, 96.796, 96.768, 96.776, 96.764,\n",
       "       96.764, 96.772, 96.804, 96.74 , 96.808, 96.772, 96.752, 96.752,\n",
       "       96.868, 96.792])"
      ]
     },
     "execution_count": 25,
     "metadata": {},
     "output_type": "execute_result"
    }
   ],
   "source": [
    "accuracies[:,-1]"
   ]
  },
  {
   "cell_type": "markdown",
   "id": "4bebec7b-5bf2-4ff5-b26e-6d3eb73c557d",
   "metadata": {},
   "source": [
    "## Attack the networks\n",
    "\n",
    "* Pick an attack like gradient\n",
    "* epsilon sized attack\n",
    "* P(missclassificatoin) vs R^Features radius\n",
    "\n",
    "\n",
    "Find x1 classed as GALAXY\n",
    "Find x2 classed as STAR\n",
    "\n",
    "find where it switches in R^Features up to some ( $\\delta$ FP precision...), try raidus $r$ for classification change.\n",
    "\n",
    "\n",
    "\n",
    "https://adversarial-ml-tutorial.org/linear_models/\n",
    "\n",
    "can try with my linear layer too see what happens!\n"
   ]
  },
  {
   "cell_type": "code",
   "execution_count": 8,
   "id": "a8bd50de-bbeb-4d11-9723-a4c1e24a6692",
   "metadata": {},
   "outputs": [],
   "source": [
    "# FGSM attack code\n",
    "def fgsm_input(image, epsilon, data_grad):\n",
    "    # Collect the element-wise sign of the data gradient\n",
    "    sign_data_grad = data_grad.sign()\n",
    "    # Create the perturbed image by adjusting each pixel of the input image\n",
    "    perturbed_image = image + epsilon*sign_data_grad\n",
    "    # Adding clipping to maintain [0,1] range\n",
    "    # perturbed_image = torch.clamp(perturbed_image, -1, 1)\n",
    "    # Return the perturbed image\n",
    "    return perturbed_image\n",
    "\n",
    "def fgsm_attack(model, data_loader, criterion, epsilon):\n",
    "    correct = 0\n",
    "    model.eval()\n",
    "    for x,y in data_loader:\n",
    "        x.requires_grad = True\n",
    "        output = model(x)\n",
    "        \n",
    "        init_pred = output.max(1, keepdim=True)[1]\n",
    "        #print(init_pred)\n",
    "    \n",
    "        if init_pred.item() != y.max(1,keepdim=True)[1].item():\n",
    "            continue\n",
    "\n",
    "        _, classtype = torch.max(y,1)\n",
    "        loss = criterion(output, classtype)\n",
    "        model.zero_grad()\n",
    "        loss.backward()\n",
    "    \n",
    "        # TODO: denorm\n",
    "        perturbed_data = fgsm_input(x, epsilon, x.grad.data)\n",
    "        # TODO: normalize\n",
    "\n",
    "        output = model(perturbed_data)\n",
    "        prediction = torch.argmax(output, dim=1)\n",
    "        target = torch.argmax(y, dim=1)\n",
    "        if prediction.item()==target.item():\n",
    "            correct+=1\n",
    "\n",
    "    return correct"
   ]
  },
  {
   "cell_type": "code",
   "execution_count": 27,
   "id": "c696f711-4a93-4d9a-9f71-791025a6bd85",
   "metadata": {},
   "outputs": [],
   "source": [
    "#fgsm_attack(models[0], test_loader, torch.nn.CrossEntropyLoss(), 0.0)"
   ]
  },
  {
   "cell_type": "code",
   "execution_count": null,
   "id": "e7ef4da2-e7a3-499c-b2bc-626968d2d1cb",
   "metadata": {},
   "outputs": [],
   "source": []
  },
  {
   "cell_type": "code",
   "execution_count": null,
   "id": "f53826c7-f058-4a00-bd01-e1a33dc4719c",
   "metadata": {},
   "outputs": [],
   "source": []
  },
  {
   "cell_type": "code",
   "execution_count": 28,
   "id": "a2593429-e6d3-4c36-9def-03b4d8c99d82",
   "metadata": {},
   "outputs": [],
   "source": [
    "criterion = torch.nn.CrossEntropyLoss()\n",
    "\n",
    "def run_for_epsilon(epsilon):\n",
    "    eps_str = f\"{epsilon:0.5f}\".replace(\".\",\"p\")\n",
    "    print(f\"running for e={eps_str}\")\n",
    "    model_correct = np.array([])\n",
    "    for model in models:\n",
    "        correct = fgsm_attack(model, test_loader, torch.nn.CrossEntropyLoss(), epsilon)\n",
    "        model_correct = np.append(model_correct,correct)\n",
    "    np.save(f\"atomic_models/fgsm_attacks_eps{eps_str}.npy\", model_correct)"
   ]
  },
  {
   "cell_type": "code",
   "execution_count": 54,
   "id": "6786e754-be7d-449f-a992-a31973995a5a",
   "metadata": {},
   "outputs": [
    {
     "name": "stdout",
     "output_type": "stream",
     "text": [
      "running for e=0p00001\n"
     ]
    }
   ],
   "source": [
    "run_for_epsilon(0.00001)"
   ]
  },
  {
   "cell_type": "code",
   "execution_count": 59,
   "id": "dbed0e31-83df-4360-901b-3f875eb2f21a",
   "metadata": {},
   "outputs": [
    {
     "name": "stdout",
     "output_type": "stream",
     "text": [
      "[22403.64, 24170.46, 24175.64, 24115.36, 23676.92] [338.8374690024703, 21.85791389863177, 21.248774082285312, 30.63446425188467, 115.28622467580419]\n"
     ]
    }
   ],
   "source": [
    "eps_files = [filename for filename in os.listdir('./atomic_models') if filename.startswith('fgsm')]\n",
    "eps = []\n",
    "means = []\n",
    "errs = []\n",
    "for file in eps_files:\n",
    "    data = np.load(f'./atomic_models/{file}')\n",
    "    means.append(np.mean(data))\n",
    "    errs.append(np.std(data))\n",
    "    eps_value = float(file.split('eps')[1].split('.npy')[0].replace('p','.'))\n",
    "    eps.append(eps_value)\n",
    "\n",
    "print(means, errs)"
   ]
  },
  {
   "cell_type": "code",
   "execution_count": 75,
   "id": "56982218-b807-410b-902a-4c6c843f59b1",
   "metadata": {},
   "outputs": [
    {
     "data": {
      "image/png": "[encoded data removed]",
      "text/plain": [
       "<Figure size 640x480 with 1 Axes>"
      ]
     },
     "metadata": {},
     "output_type": "display_data"
    },
    {
     "data": {
      "image/png": "[encoded data removed]",
      "text/plain": [
       "<Figure size 640x480 with 1 Axes>"
      ]
     },
     "metadata": {},
     "output_type": "display_data"
    }
   ],
   "source": [
    "correct_mean = np.mean(accuracies[:,-1]*len(test_loader)/100.)\n",
    "correct_err = np.std(accuracies[:,-1]*len(test_loader)/100.)\n",
    "plt.errorbar(eps, means, errs,linestyle=\"None\",marker=\"o\")\n",
    "plt.fill_between([0,1e-2], correct_mean-correct_err, correct_mean+correct_err, alpha=0.2)\n",
    "plt.xlabel(r'$\\epsilon$')\n",
    "plt.ylabel('Num Correct')\n",
    "plt.show()\n",
    "plt.errorbar(eps, means, errs,linestyle=\"None\",marker=\"o\")\n",
    "plt.fill_between([0,1], correct_mean-correct_err, correct_mean+correct_err, alpha=0.2)\n",
    "plt.xlabel(r'$\\epsilon$')\n",
    "plt.ylabel('Num Correct')\n",
    "plt.xlim(1e-6,1e-2)\n",
    "plt.xscale('log')\n",
    "plt.ylim(24000,24250)\n",
    "plt.show()"
   ]
  },
  {
   "cell_type": "code",
   "execution_count": 52,
   "id": "3ea276f3-304f-465c-b246-3cd08b3260b9",
   "metadata": {},
   "outputs": [
    {
     "data": {
      "text/plain": [
       "(24180, 25000)"
      ]
     },
     "execution_count": 52,
     "metadata": {},
     "output_type": "execute_result"
    }
   ],
   "source": [
    "test(models[0], test_loader)"
   ]
  },
  {
   "cell_type": "code",
   "execution_count": 38,
   "id": "482b84a3-f364-4418-a95e-c12e546fa3d8",
   "metadata": {},
   "outputs": [
    {
     "name": "stderr",
     "output_type": "stream",
     "text": [
      "/home/cculver/anaconda3/envs/generalml/lib/python3.10/site-packages/torch/cuda/__init__.py:619: UserWarning: Can't initialize NVML\n",
      "  warnings.warn(\"Can't initialize NVML\")\n"
     ]
    }
   ],
   "source": [
    "model, loss, accuracy = train_new_model(False, 25)"
   ]
  },
  {
   "cell_type": "code",
   "execution_count": 41,
   "id": "06d9163d-cc8f-4e53-8775-0948d8517f0e",
   "metadata": {},
   "outputs": [
    {
     "data": {
      "text/plain": [
       "[94.704,\n",
       " 93.604,\n",
       " 95.19999999999999,\n",
       " 95.86,\n",
       " 95.04,\n",
       " 95.536,\n",
       " 94.58,\n",
       " 94.38,\n",
       " 93.96,\n",
       " 96.344,\n",
       " 96.492,\n",
       " 96.54,\n",
       " 96.572,\n",
       " 96.596,\n",
       " 96.612,\n",
       " 96.624,\n",
       " 96.64399999999999,\n",
       " 96.64399999999999,\n",
       " 96.64,\n",
       " 96.652,\n",
       " 96.66799999999999,\n",
       " 96.66799999999999,\n",
       " 96.66799999999999,\n",
       " 96.67999999999999,\n",
       " 96.684]"
      ]
     },
     "execution_count": 41,
     "metadata": {},
     "output_type": "execute_result"
    }
   ],
   "source": [
    "accuracy"
   ]
  },
  {
   "cell_type": "code",
   "execution_count": 43,
   "id": "bb3075e4-dd93-4e66-b406-db5fd84dd4d1",
   "metadata": {},
   "outputs": [
    {
     "data": {
      "text/plain": [
       "24171.0"
      ]
     },
     "execution_count": 43,
     "metadata": {},
     "output_type": "execute_result"
    }
   ],
   "source": [
    "len(test_loader)*96.684/100"
   ]
  },
  {
   "cell_type": "code",
   "execution_count": 42,
   "id": "3808ec47-241c-43be-b6b5-196b38bc926b",
   "metadata": {},
   "outputs": [
    {
     "data": {
      "text/plain": [
       "24094"
      ]
     },
     "execution_count": 42,
     "metadata": {},
     "output_type": "execute_result"
    }
   ],
   "source": [
    "fgsm_attack(model, test_loader, torch.nn.CrossEntropyLoss(), 0.005)"
   ]
  },
  {
   "cell_type": "code",
   "execution_count": null,
   "id": "b632717a-756b-4df4-951d-20b30f77d689",
   "metadata": {},
   "outputs": [],
   "source": []
  },
  {
   "cell_type": "markdown",
   "id": "99792b2c-88f1-460c-8342-b1104d558db2",
   "metadata": {},
   "source": [
    "* Definitely add Deterministic trianed model for each epsilon\n",
    "\n",
    "* Can mix ND/D Training and ND/D inference\n",
    "\n",
    "* Fixed vs variable Adversarial Inputs if adversarial attack depends on the model."
   ]
  },
  {
   "cell_type": "markdown",
   "id": "87be8d08-d057-4187-aa74-1fbd5294fa24",
   "metadata": {
    "jp-MarkdownHeadingCollapsed": true
   },
   "source": [
    "### ND Models but D inference"
   ]
  },
  {
   "cell_type": "code",
   "execution_count": 29,
   "id": "3bec2a58-88d9-4bf1-b814-d73ab8269416",
   "metadata": {},
   "outputs": [],
   "source": [
    "models=[]\n",
    "num_models=50\n",
    "for i in range(num_models):\n",
    "    model = Classifier(atomics=False)\n",
    "    model.load_state_dict(torch.load(f\"atomic_models/model_{i}.pth\"))\n",
    "    model.eval()\n",
    "    models.append(model)"
   ]
  },
  {
   "cell_type": "code",
   "execution_count": 31,
   "id": "32cb2efa-90a0-45ae-9edc-56e51d52f1ab",
   "metadata": {},
   "outputs": [],
   "source": [
    "criterion = torch.nn.CrossEntropyLoss()\n",
    "\n",
    "def run_for_epsilon(epsilon):\n",
    "    eps_str = f\"{epsilon:0.5f}\".replace(\".\",\"p\")\n",
    "    print(f\"running for e={eps_str}\")\n",
    "    model_correct = np.array([])\n",
    "    for model in models:\n",
    "        correct = fgsm_attack(model, test_loader, torch.nn.CrossEntropyLoss(), epsilon)\n",
    "        model_correct = np.append(model_correct,correct)\n",
    "    np.save(f\"atomic_models/fgsm_attacks_eps{eps_str}_detinf.npy\", model_correct)"
   ]
  },
  {
   "cell_type": "code",
   "execution_count": 33,
   "id": "3a91a830-df6a-460e-82a5-257073c62b6d",
   "metadata": {},
   "outputs": [
    {
     "name": "stdout",
     "output_type": "stream",
     "text": [
      "running for e=0p00001\n",
      "running for e=0p00005\n",
      "running for e=0p00010\n",
      "running for e=0p00050\n",
      "running for e=0p00100\n"
     ]
    }
   ],
   "source": [
    "for eps in [0.00001,0.00005,0.0001,0.0005,0.001]:\n",
    "    run_for_epsilon(eps)"
   ]
  },
  {
   "cell_type": "code",
   "execution_count": null,
   "id": "f30f0dc2-5b00-43df-af55-767bb3129066",
   "metadata": {},
   "outputs": [],
   "source": []
  },
  {
   "cell_type": "markdown",
   "id": "6a6b860b-151c-480c-bfd2-bffdb3fe5fc5",
   "metadata": {},
   "source": [
    "## Runs for D/ND Training & Inference"
   ]
  },
  {
   "cell_type": "code",
   "execution_count": 10,
   "id": "e93063f4-3f0b-4562-822c-d9eb2d2a773a",
   "metadata": {},
   "outputs": [],
   "source": [
    "# FGSM attack code\n",
    "def fgsm_input(image, epsilon, data_grad):\n",
    "    # Collect the element-wise sign of the data gradient\n",
    "    sign_data_grad = data_grad.sign()\n",
    "    # Create the perturbed image by adjusting each pixel of the input image\n",
    "    perturbed_image = image + epsilon*sign_data_grad\n",
    "    # Adding clipping to maintain [0,1] range\n",
    "    # perturbed_image = torch.clamp(perturbed_image, -1, 1)\n",
    "    # Return the perturbed image\n",
    "    return perturbed_image\n",
    "\n",
    "def fgsm_attack(model, data_loader, criterion, epsilon):\n",
    "    correct = 0\n",
    "    model.eval()\n",
    "    for x,y in data_loader:\n",
    "        x.requires_grad = True\n",
    "        output = model(x)\n",
    "        \n",
    "        init_pred = output.max(1, keepdim=True)[1]\n",
    "        #print(init_pred)\n",
    "    \n",
    "        if init_pred.item() != y.max(1,keepdim=True)[1].item():\n",
    "            continue\n",
    "\n",
    "        _, classtype = torch.max(y,1)\n",
    "        loss = criterion(output, classtype)\n",
    "        model.zero_grad()\n",
    "        # should check that this is deterministic - \n",
    "        loss.backward()\n",
    "    \n",
    "        # TODO: denorm\n",
    "        perturbed_data = fgsm_input(x, epsilon, x.grad.data)\n",
    "        # TODO: normalize\n",
    "\n",
    "        output = model(perturbed_data)\n",
    "        prediction = torch.argmax(output, dim=1)\n",
    "        target = torch.argmax(y, dim=1)\n",
    "        if prediction.item()==target.item():\n",
    "            correct+=1\n",
    "\n",
    "    return correct"
   ]
  },
  {
   "cell_type": "code",
   "execution_count": 11,
   "id": "fa7373b2-8ee2-4eca-8f07-220a1f2f8db7",
   "metadata": {},
   "outputs": [],
   "source": [
    "def run_fgsm(epsilon, deterministic_training=True, deterministic_inference=True):\n",
    "    models = []\n",
    "    if deterministic_training:\n",
    "        if deterministic_inference:\n",
    "            model = Classifier(atomics=deterministic_inference)\n",
    "            model.load_state_dict(torch.load(f\"atomic_models/model.pth\"))\n",
    "            model.eval()\n",
    "            models.append(model)\n",
    "        else:\n",
    "            # D training - ND inference\n",
    "            # 50 models - same weights - atomic operations\n",
    "            # create 50 attacks (from atomic operations)\n",
    "            # do inference on each attacked input\n",
    "            # maybe break apart also\n",
    "            for i in range(num_models):\n",
    "                \n",
    "                model = Classifier(atomics=deterministic_inference)\n",
    "                model.load_state_dict(torch.load(f\"atomic_models/model.pth\"))\n",
    "                model.eval()\n",
    "                models.append(model)\n",
    "    else:\n",
    "        for i in range(num_models):\n",
    "            model = Classifier(atomics=deterministic_inference)\n",
    "            model.load_state_dict(torch.load(f\"atomic_models/model_{i}.pth\"))\n",
    "            model.eval()\n",
    "            models.append(model)\n",
    "\n",
    "    num_correct = []\n",
    "\n",
    "    for model in models:\n",
    "        num_correct.append(fgsm_attack(model, test_loader, torch.nn.CrossEntropyLoss(), epsilon))\n",
    "\n",
    "    return np.array(num_correct)            "
   ]
  },
  {
   "cell_type": "code",
   "execution_count": 159,
   "id": "85ce4b17-5ee8-4aea-a6a0-57f2d3366c03",
   "metadata": {},
   "outputs": [],
   "source": [
    "import pandas as pd\n",
    "\n",
    "data = pd.read_csv('atomic_models/fgsm.csv')\n",
    "data['num_correct'] = data['num_correct'].apply(lambda x: np.array(pd.eval(x.replace('\\n','').replace(' ', ','))))\n",
    "num_models=50\n",
    "#data = pd.DataFrame(columns = ['epsilon', 'deterministic_training', 'deterministic_inference'])\n",
    "completed = set(tuple(row) for row in data[['epsilon', 'deterministic_training', 'deterministic_inference']].to_records(index=False))\n",
    "#for epsilon in [1e-3,5e-3,1e-4,5e-4,1e-5,5e-5,1e-6,5e-6,1e-7,5e-7,1e-8]:\n",
    "for epsilon in [0,2e-3,3e-3,7e-3,2e-4,3e-4,7e-4]:\n",
    "#print(epsilon)\n",
    "    for train_mode in [False,True]:\n",
    "        for infer_mode in [False,True]:\n",
    "            params = {'epsilon': epsilon, 'deterministic_training': train_mode, 'deterministic_inference': infer_mode}\n",
    "            \n",
    "            if tuple(params.values()) in completed:\n",
    "                #print(tuple(params.values()))\n",
    "                #print(\"done before\")\n",
    "                continue\n",
    "            else:\n",
    "                num_correct = run_fgsm(epsilon, train_mode, infer_mode)\n",
    "\n",
    "            params['num_correct']=num_correct\n",
    "            params = pd.DataFrame([params])\n",
    "            data = pd.concat([data, params], ignore_index=True)\n",
    "            data.to_csv('atomic_models/fgsm.csv')"
   ]
  },
  {
   "cell_type": "code",
   "execution_count": null,
   "id": "d6ea6fec-207f-4d9f-9ea9-1f2b3802e3f6",
   "metadata": {},
   "outputs": [],
   "source": []
  },
  {
   "cell_type": "code",
   "execution_count": null,
   "id": "ef228285-3ae4-4b9f-b3aa-d158111758e2",
   "metadata": {},
   "outputs": [],
   "source": []
  },
  {
   "cell_type": "code",
   "execution_count": 160,
   "id": "fed764c9-1374-49b4-bb4b-ed734a3edae3",
   "metadata": {},
   "outputs": [],
   "source": [
    "dI_dT_filter = (data['deterministic_training'] == True) & (data['deterministic_inference'] == True)\n",
    "xdd,ydd = data[dI_dT_filter][['epsilon','num_correct']].T.values\n",
    "ydd = np.array([a[0] for a in ydd])"
   ]
  },
  {
   "cell_type": "code",
   "execution_count": 161,
   "id": "f0b493b6-705e-4010-bd56-84c32dece660",
   "metadata": {},
   "outputs": [],
   "source": [
    "def get_errplt_data(training,inference):\n",
    "    fil = (data['deterministic_training'] == training) & (data['deterministic_inference'] == inference)\n",
    "    xdd, ydd = data[fil][['epsilon','num_correct']].T.values\n",
    "    ydd = np.array([a for a in ydd])\n",
    "    #print(xdd, ydd)\n",
    "    return xdd, np.mean(ydd,axis=1), np.std(ydd,axis=1)"
   ]
  },
  {
   "cell_type": "code",
   "execution_count": 162,
   "id": "eb9d6e1b-8146-4c50-ac91-3bf5ac921789",
   "metadata": {},
   "outputs": [
    {
     "name": "stdout",
     "output_type": "stream",
     "text": [
      "(array([0.0001, 0.0005, 1e-05, 5e-05, 1e-06, 5e-06, 1e-07, 5e-07, 1e-08,\n",
      "       0.001, 0.005, 0.0, 0.002, 0.003, 0.007, 0.0002, 0.0003, 0.0007],\n",
      "      dtype=object), array([24244., 24238., 24244., 24244., 24245., 24245., 24245., 24245.,\n",
      "       24245., 24133., 24045., 24149., 24115., 24095., 23962., 24147.,\n",
      "       24145., 24137.]), array([0., 0., 0., 0., 0., 0., 0., 0., 0., 0., 0., 0., 0., 0., 0., 0., 0.,\n",
      "       0.]))\n",
      "(array([0.0001, 0.0005, 1e-05, 5e-05, 1e-06, 5e-06, 1e-07, 5e-07, 1e-08,\n",
      "       0.001, 0.005, 0.0, 0.002, 0.003, 0.007, 0.0002, 0.0003, 0.0007],\n",
      "      dtype=object), array([24235.1 , 24220.58, 24238.3 , 24237.04, 24238.5 , 24238.38,\n",
      "       24238.5 , 24238.5 , 24238.5 , 24167.76, 23913.64, 24194.82,\n",
      "       24126.34, 24071.74, 23659.38, 24190.66, 24188.28, 24177.42]), array([17.27338994, 17.65456315, 17.54793435, 17.49852565, 17.49771414,\n",
      "       17.49958857, 17.49771414, 17.49771414, 17.49771414, 18.85371051,\n",
      "       53.95025857, 17.31206516, 20.63066649, 27.03465184, 99.64936327,\n",
      "       18.12358684, 18.44889157, 18.32167023]))\n",
      "(array([0.0001, 0.0005, 1e-05, 5e-05, 1e-06, 5e-06, 1e-07, 5e-07, 1e-08,\n",
      "       0.001, 0.005, 0.0, 0.002, 0.003, 0.007, 0.0002, 0.0003, 0.0007],\n",
      "      dtype=object), array([24235.1 , 24220.58, 24238.3 , 24237.04, 24238.5 , 24238.38,\n",
      "       24238.5 , 24238.5 , 24238.5 , 24167.76, 23913.64, 24194.82,\n",
      "       24126.34, 24071.72, 23659.38, 24190.66, 24188.28, 24177.42]), array([17.27338994, 17.65456315, 17.54793435, 17.49852565, 17.49771414,\n",
      "       17.49958857, 17.49771414, 17.49771414, 17.49771414, 18.85371051,\n",
      "       53.95025857, 17.31206516, 20.63066649, 27.02964299, 99.64936327,\n",
      "       18.12358684, 18.44889157, 18.32167023]))\n"
     ]
    }
   ],
   "source": [
    "for train,inf in [[True,False],[False,True],[False,False]]:\n",
    "    print(get_errplt_data(train,inf))"
   ]
  },
  {
   "cell_type": "code",
   "execution_count": 163,
   "id": "f201a281-c592-4ac7-a7b6-5f245621119a",
   "metadata": {},
   "outputs": [],
   "source": [
    "accuracies = np.load(\"atomic_models/accuracies.npy\")\n",
    "num_epochs=25\n",
    "accuracies = np.reshape(accuracies, (num_models,num_epochs))\n",
    "correct_mean = np.mean(accuracies[:,-1]*len(test_loader)/100.)\n",
    "correct_err = np.std(accuracies[:,-1]*len(test_loader)/100.)"
   ]
  },
  {
   "cell_type": "code",
   "execution_count": 164,
   "id": "f454d307-dc48-42a8-8a02-d12f324671ed",
   "metadata": {},
   "outputs": [
    {
     "data": {
      "image/png": "[encoded data removed]",
      "text/plain": [
       "<Figure size 640x480 with 1 Axes>"
      ]
     },
     "metadata": {},
     "output_type": "display_data"
    }
   ],
   "source": [
    "mklabel = lambda t,i: ('D' if t else 'ND') + ',' + ('D' if i else 'ND')\n",
    "for i, (train,inf) in enumerate([[True,False],[False,True],[False,False]]):\n",
    "    x,y,err = get_errplt_data(train,inf)\n",
    "    plt.errorbar(x+(i+1)*0.2*x,y,err,linestyle='None',marker='o', label=mklabel(train,inf))\n",
    "\n",
    "plt.plot(xdd,ydd,linestyle = 'None', marker='o', label=\"D,D\")\n",
    "plt.fill_between([0,1e-2], correct_mean-correct_err, correct_mean+correct_err, alpha=0.2)\n",
    "plt.xscale('log')\n",
    "plt.legend(loc='lower left')\n",
    "plt.show()"
   ]
  },
  {
   "cell_type": "code",
   "execution_count": 167,
   "id": "f92cd0c4-9fdc-4e03-a0d6-82878f73d6bf",
   "metadata": {},
   "outputs": [],
   "source": [
    "# ND - 50 models from ND training\n",
    "\n",
    "# D inference/attack - output(x) is the same, fgsm attack is the same for any number of runs on that model\n",
    "# ND inference/attack - output(x) varies, fgsm attack varies for each run on model i\n",
    "\n",
    "# dmodel\n",
    "# 50 fgsm attacks with ND inference\n",
    "\n",
    "# [model1, model2]\n",
    "# for each do 50 fgsm attacks with ND inference\n",
    "# 2*50 samples "
   ]
  },
  {
   "cell_type": "code",
   "execution_count": 165,
   "id": "03d50c94-be2f-4e5c-b4d0-105facb1e4a6",
   "metadata": {},
   "outputs": [
    {
     "data": {
      "image/png": "[encoded data removed]",
      "text/plain": [
       "<Figure size 640x480 with 1 Axes>"
      ]
     },
     "metadata": {},
     "output_type": "display_data"
    }
   ],
   "source": [
    "mklabel = lambda t,i: ('D' if t else 'ND') + ',' + ('D' if i else 'ND')\n",
    "for i, (train,inf) in enumerate([[True,False],[False,True],[False,False]]):\n",
    "    x,y,err = get_errplt_data(train,inf)\n",
    "    plt.errorbar(x+(i+1)*0.05*x,y,err,linestyle='None',marker='o', label=mklabel(train,inf))\n",
    "\n",
    "plt.plot(xdd,ydd,linestyle = 'None', marker='o', label=\"D,D\")\n",
    "plt.fill_between([0,1e-2], correct_mean-correct_err, correct_mean+correct_err, alpha=0.2)\n",
    "plt.xscale('log')\n",
    "plt.xlim(8e-5,1.1e-2)\n",
    "plt.legend(loc='lower left')\n",
    "plt.show()"
   ]
  },
  {
   "cell_type": "code",
   "execution_count": 166,
   "id": "0af2de38-15f5-4bc4-ba6a-ddb0a997f3b4",
   "metadata": {},
   "outputs": [
    {
     "data": {
      "text/plain": [
       "array([24196., 24198., 24190., 24187., 24192., 24096., 24199., 24195.,\n",
       "       24186., 24200., 24198., 24201., 24092., 24197., 24193., 24203.,\n",
       "       24191., 24196., 24191., 24186., 24197., 24191., 24202., 24201.,\n",
       "       24193., 24196., 24194., 24197., 24202., 24193., 24196., 24152.,\n",
       "       24196., 24189., 24195., 24192., 24199., 24192., 24194., 24191.,\n",
       "       24191., 24193., 24201., 24185., 24202., 24193., 24188., 24188.,\n",
       "       24217., 24198.])"
      ]
     },
     "execution_count": 166,
     "metadata": {},
     "output_type": "execute_result"
    }
   ],
   "source": [
    "accuracies[:,-1]*len(test_loader)/100"
   ]
  },
  {
   "cell_type": "code",
   "execution_count": null,
   "id": "44dd2041-2c46-40ca-a8af-1c9b9280f8d6",
   "metadata": {},
   "outputs": [],
   "source": []
  }
 ],
 "metadata": {
  "kernelspec": {
   "display_name": "Python 3 (ipykernel)",
   "language": "python",
   "name": "python3"
  },
  "language_info": {
   "codemirror_mode": {
    "name": "ipython",
    "version": 3
   },
   "file_extension": ".py",
   "mimetype": "text/x-python",
   "name": "python",
   "nbconvert_exporter": "python",
   "pygments_lexer": "ipython3",
   "version": "3.10.14"
  }
 },
 "nbformat": 4,
 "nbformat_minor": 5
}
