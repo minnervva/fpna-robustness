{
 "cells": [
  {
   "cell_type": "code",
   "execution_count": 1,
   "id": "b70feda8-071c-45ca-b1c6-a5a49856c998",
   "metadata": {},
   "outputs": [],
   "source": [
    "import pandas as pd\n",
    "import numpy as np\n",
    "import torch\n",
    "\n",
    "import matplotlib.pyplot as plt\n",
    "import torchattacks\n",
    "import os\n",
    "torch.set_default_dtype(torch.float32)\n",
    "\n",
    "\n",
    "from astro_dataset import *\n",
    "from linear_atomic import *\n",
    "from utilities import *\n",
    "from fgsm_attacks import *\n",
    "from pgd_attack import *"
   ]
  },
  {
   "cell_type": "markdown",
   "id": "7d983e99",
   "metadata": {},
   "source": [
    "Repeat for a more common dataset\n",
    "* Trust the training acc & compare and adv attacks.\n",
    "* CIFAR-10\n",
    "\n",
    "\n",
    "\n",
    "More Attacks\n",
    "\n",
    "* DeepFool\n",
    "* 2nd most probable class?\n",
    "* ...."
   ]
  },
  {
   "cell_type": "markdown",
   "id": "e4f1d5dd-99a9-4c2d-9e0a-57e9589bf341",
   "metadata": {},
   "source": [
    "#### Code used to train the models [kept for reference]"
   ]
  },
  {
   "cell_type": "code",
   "execution_count": 2,
   "id": "192549bf-08a2-489c-a299-37f5ca0a12ee",
   "metadata": {},
   "outputs": [],
   "source": [
    "#nfeatures, nclasses, train_loader, test_loader = get_astro_data(train_batch=200, test_batch=200)\n",
    "#print(len(train_loader))\n",
    "#print(len(test_loader))\n",
    "#timer = Timer()\n",
    "#timer.start()\n",
    "#losses = np.array([])\n",
    "#accuracies = np.array([])\n",
    "#nmodels = 200\n",
    "#for i in range(nmodels):\n",
    "#    model, loss, accuracy = train_new_model(\n",
    "#        atomics=True, \n",
    "#        nfeatures=nfeatures, nclasses=nclasses, nhidden=5*nfeatures,  \n",
    "#        train_loader = train_loader, test_loader = test_loader,\n",
    "#        )\n",
    "\n",
    "#    torch.save(model.state_dict(), f\"atomic_models/model_{i}.pth\")\n",
    "#    losses=np.append(losses,loss)\n",
    "#   accuracies=np.append(accuracies,accuracy)\n",
    "#    np.save(\"atomic_models/losses.npy\", losses)\n",
    "#    np.save(\"atomic_models/accuracies.npy\", accuracies)\n",
    "#timer.pstop()"
   ]
  },
  {
   "cell_type": "code",
   "execution_count": 3,
   "id": "cab0f966-ac12-4a02-b2d5-a4e57a53284f",
   "metadata": {},
   "outputs": [],
   "source": [
    "#timer = Timer()\n",
    "#timer.start()\n",
    "#model, loss, accuracy = train_new_model(\n",
    "#    atomics=False, \n",
    "#    nfeatures=nfeatures, nclasses=nclasses, nhidden=5*nfeatures,  \n",
    "#    train_loader = train_loader, test_loader = test_loader,\n",
    "#    )\n",
    "\n",
    "#torch.save(model.state_dict(), f\"atomic_models/model.pth\")\n",
    "#timer.pstop()"
   ]
  },
  {
   "cell_type": "markdown",
   "id": "5cbac484-b1fa-4626-bc64-9a385df9fdf6",
   "metadata": {},
   "source": [
    "### Load models & Continue"
   ]
  },
  {
   "cell_type": "code",
   "execution_count": 2,
   "id": "79f7d46c-8160-4217-9ba0-ffd1a59d04e5",
   "metadata": {},
   "outputs": [
    {
     "name": "stdout",
     "output_type": "stream",
     "text": [
      "8 3\n"
     ]
    }
   ],
   "source": [
    "nfeatures, nclasses, train_loader, test_loader = get_astro_data(train_batch=200, test_batch=1)\n",
    "print(nfeatures, nclasses)\n",
    "num_epochs = 25\n",
    "num_models = 200\n",
    "losses = np.load(\"atomic_models/losses.npy\")\n",
    "accuracies = np.load(\"atomic_models/accuracies.npy\")\n",
    "models=[]\n",
    "for i in range(num_models):\n",
    "    model = Classifier(atomics=True,nfeatures=nfeatures, nclasses=nclasses, nhidden=5*nfeatures)\n",
    "    model.load_state_dict(torch.load(f\"atomic_models/model_{i}.pth\"))\n",
    "    model.eval()\n",
    "    models.append(model)\n",
    "losses = np.reshape(losses, (num_models,num_epochs))\n",
    "accuracies = np.reshape(accuracies, (num_models,num_epochs))"
   ]
  },
  {
   "cell_type": "code",
   "execution_count": 3,
   "id": "7203645e-7eac-4fbc-a967-982301ae0c85",
   "metadata": {},
   "outputs": [
    {
     "data": {
      "image/png": "[encoded data removed]",
      "text/plain": [
       "<Figure size 640x480 with 1 Axes>"
      ]
     },
     "metadata": {},
     "output_type": "display_data"
    }
   ],
   "source": [
    "plt.errorbar(list(range(1,num_epochs+1)), np.mean(losses,axis=0), np.std(losses,axis=0),linestyle=\"None\",marker=\"o\")\n",
    "plt.show()"
   ]
  },
  {
   "cell_type": "code",
   "execution_count": 4,
   "id": "902ec979-77cc-48a3-966e-d3c460f05e11",
   "metadata": {},
   "outputs": [
    {
     "data": {
      "image/png": "[encoded data removed]",
      "text/plain": [
       "<Figure size 640x480 with 1 Axes>"
      ]
     },
     "metadata": {},
     "output_type": "display_data"
    }
   ],
   "source": [
    "plt.errorbar(list(range(1,num_epochs+1)), np.mean(accuracies,axis=0), np.std(accuracies,axis=0),linestyle=\"None\",marker=\"o\")\n",
    "plt.show()"
   ]
  },
  {
   "cell_type": "code",
   "execution_count": 5,
   "id": "31141a0c-d716-40cb-afc5-bc5df004f5be",
   "metadata": {
    "scrolled": true
   },
   "outputs": [
    {
     "name": "stdout",
     "output_type": "stream",
     "text": [
      "96.504 % accuracy\n",
      "96.444 % accuracy\n",
      "96.612 % accuracy\n"
     ]
    }
   ],
   "source": [
    "for model in models[:3]:\n",
    "    cor, total = test(model, test_loader)\n",
    "    print(f\"{cor*100/total} % accuracy\")"
   ]
  },
  {
   "cell_type": "code",
   "execution_count": null,
   "id": "1baf4125",
   "metadata": {},
   "outputs": [],
   "source": []
  },
  {
   "cell_type": "code",
   "execution_count": null,
   "id": "cb7ea7de",
   "metadata": {},
   "outputs": [],
   "source": []
  },
  {
   "cell_type": "code",
   "execution_count": null,
   "id": "0644ce0c",
   "metadata": {},
   "outputs": [],
   "source": []
  },
  {
   "cell_type": "markdown",
   "id": "a153f13e",
   "metadata": {},
   "source": [
    "## PGD Attack"
   ]
  },
  {
   "cell_type": "code",
   "execution_count": 6,
   "id": "04f674a8",
   "metadata": {},
   "outputs": [
    {
     "name": "stdout",
     "output_type": "stream",
     "text": [
      "Atomic model\n",
      "(24131, 25000)\n"
     ]
    },
    {
     "name": "stderr",
     "output_type": "stream",
     "text": [
      "/home/cculver/anaconda3/envs/generalml/lib/python3.10/site-packages/torch/autograd/graph.py:744: UserWarning: CUDA initialization: The NVIDIA driver on your system is too old (found version 11070). Please update your GPU driver by downloading and installing a new version from the URL: http://www.nvidia.com/Download/index.aspx Alternatively, go to: https://pytorch.org to install a PyTorch version that has been compiled with your version of the CUDA driver. (Triggered internally at ../c10/cuda/CUDAFunctions.cpp:108.)\n",
      "  return Variable._execution_engine.run_backward(  # Calls into the C++ engine to run the backward pass\n"
     ]
    },
    {
     "name": "stdout",
     "output_type": "stream",
     "text": [
      "22913\n",
      "Elapsed time: 100.2287 seconds\n",
      "non-atomic model\n",
      "22919\n",
      "Elapsed time: 181.4436 seconds\n",
      "non-atomic model\n",
      "22959\n",
      "Elapsed time: 174.2036 seconds\n"
     ]
    }
   ],
   "source": [
    "print(\"Atomic model\")\n",
    "timer = Timer()\n",
    "timer.start()\n",
    "model = Classifier(atomics=False,\n",
    "                              nfeatures=nfeatures, nclasses=nclasses, nhidden=5*nfeatures,  )\n",
    "model.load_state_dict(torch.load(f\"atomic_models/model.pth\"))\n",
    "model.eval()\n",
    "print(test(model,test_loader))\n",
    "print(pgd_attack(model, test_loader, torch.nn.CrossEntropyLoss(), 0.01, 0.01, 10))\n",
    "timer.pstop()\n",
    "\n",
    "print(\"non-atomic model\")\n",
    "timer = Timer()\n",
    "timer.start()\n",
    "print(pgd_attack(models[0], test_loader, torch.nn.CrossEntropyLoss(), 0.01, 0.01, 10))\n",
    "timer.pstop()\n",
    "\n",
    "print(\"non-atomic model\")\n",
    "timer = Timer()\n",
    "timer.start()\n",
    "print(pgd_attack(models[111], test_loader, torch.nn.CrossEntropyLoss(), 0.01, 0.01, 10))\n",
    "timer.pstop()"
   ]
  },
  {
   "cell_type": "code",
   "execution_count": null,
   "id": "f37e982c",
   "metadata": {},
   "outputs": [],
   "source": []
  },
  {
   "cell_type": "code",
   "execution_count": null,
   "id": "7b8a2cc4",
   "metadata": {},
   "outputs": [],
   "source": []
  },
  {
   "cell_type": "code",
   "execution_count": null,
   "id": "aa9b725b",
   "metadata": {},
   "outputs": [],
   "source": []
  },
  {
   "cell_type": "code",
   "execution_count": null,
   "id": "c97ea7a9",
   "metadata": {},
   "outputs": [],
   "source": []
  },
  {
   "cell_type": "code",
   "execution_count": null,
   "id": "3eda4f6d",
   "metadata": {},
   "outputs": [],
   "source": []
  },
  {
   "cell_type": "code",
   "execution_count": null,
   "id": "6d4094ef",
   "metadata": {},
   "outputs": [],
   "source": []
  },
  {
   "cell_type": "markdown",
   "id": "6b9400e9-eb7f-4044-864c-cfc69bdf09a8",
   "metadata": {},
   "source": [
    "## FSGM Attack"
   ]
  },
  {
   "cell_type": "markdown",
   "id": "6343ae5f-7c6e-4c54-8cba-f97583585f1f",
   "metadata": {},
   "source": [
    "#### Attack runs"
   ]
  },
  {
   "cell_type": "code",
   "execution_count": 12,
   "id": "a63bf546-aafa-477a-8646-f52be4cf287a",
   "metadata": {},
   "outputs": [],
   "source": [
    "def run_fgsm(epsilon, deterministic_training=True, deterministic_inference=True):\n",
    "    models = []\n",
    "    if deterministic_training:\n",
    "        if deterministic_inference:\n",
    "            model = Classifier(atomics=deterministic_inference,\n",
    "                              nfeatures=nfeatures, nclasses=nclasses, nhidden=5*nfeatures,  )\n",
    "            model.load_state_dict(torch.load(f\"atomic_models/model.pth\"))\n",
    "            model.eval()\n",
    "            models.append(model)\n",
    "        else:\n",
    "            for i in range(num_models):\n",
    "                \n",
    "                model = Classifier(atomics=deterministic_inference,\n",
    "                                  nfeatures=nfeatures, nclasses=nclasses, nhidden=5*nfeatures,  )\n",
    "                model.load_state_dict(torch.load(f\"atomic_models/model.pth\"))\n",
    "                model.eval()\n",
    "                models.append(model)\n",
    "    else:\n",
    "        for i in range(num_models):\n",
    "            model = Classifier(atomics=deterministic_inference,\n",
    "                              nfeatures=nfeatures, nclasses=nclasses, nhidden=5*nfeatures,  )\n",
    "            model.load_state_dict(torch.load(f\"atomic_models/model_{i}.pth\"))\n",
    "            model.eval()\n",
    "            models.append(model)\n",
    "\n",
    "    num_correct = []\n",
    "\n",
    "    for model in models:\n",
    "        num_correct.append(fgsm_attack(model, test_loader, torch.nn.CrossEntropyLoss(), epsilon))\n",
    "\n",
    "    return np.array(num_correct) "
   ]
  },
  {
   "cell_type": "code",
   "execution_count": 13,
   "id": "8717b3c9-7d9b-42cd-9891-1cf8d31bbfec",
   "metadata": {},
   "outputs": [
    {
     "name": "stdout",
     "output_type": "stream",
     "text": [
      "Atomic model\n",
      "(24131, 25000)\n"
     ]
    },
    {
     "name": "stderr",
     "output_type": "stream",
     "text": [
      "/home/cculver/anaconda3/envs/generalml/lib/python3.10/site-packages/torch/autograd/graph.py:744: UserWarning: CUDA initialization: The NVIDIA driver on your system is too old (found version 11070). Please update your GPU driver by downloading and installing a new version from the URL: http://www.nvidia.com/Download/index.aspx Alternatively, go to: https://pytorch.org to install a PyTorch version that has been compiled with your version of the CUDA driver. (Triggered internally at ../c10/cuda/CUDAFunctions.cpp:108.)\n",
      "  return Variable._execution_engine.run_backward(  # Calls into the C++ engine to run the backward pass\n"
     ]
    },
    {
     "name": "stdout",
     "output_type": "stream",
     "text": [
      "23809\n",
      "Elapsed time: 15.1876 seconds\n",
      "non-atomic model\n",
      "23709\n",
      "Elapsed time: 22.8180 seconds\n",
      "non-atomic model\n",
      "23828\n",
      "Elapsed time: 22.8354 seconds\n"
     ]
    }
   ],
   "source": [
    "print(\"Atomic model\")\n",
    "timer = Timer()\n",
    "timer.start()\n",
    "model = Classifier(atomics=False,\n",
    "                              nfeatures=nfeatures, nclasses=nclasses, nhidden=5*nfeatures,  )\n",
    "model.load_state_dict(torch.load(f\"atomic_models/model.pth\"))\n",
    "model.eval()\n",
    "print(test(model,test_loader))\n",
    "print(fgsm_attack(model, test_loader, torch.nn.CrossEntropyLoss(), 0.01))\n",
    "timer.pstop()\n",
    "\n",
    "print(\"non-atomic model\")\n",
    "timer = Timer()\n",
    "timer.start()\n",
    "print(fgsm_attack(models[0], test_loader, torch.nn.CrossEntropyLoss(), 0.01))\n",
    "timer.pstop()\n",
    "\n",
    "print(\"non-atomic model\")\n",
    "timer = Timer()\n",
    "timer.start()\n",
    "print(fgsm_attack(models[111], test_loader, torch.nn.CrossEntropyLoss(), 0.01))\n",
    "timer.pstop()"
   ]
  },
  {
   "cell_type": "code",
   "execution_count": null,
   "id": "f97f2aab-1a17-4f45-bcab-cdc8949f74f8",
   "metadata": {},
   "outputs": [],
   "source": []
  },
  {
   "cell_type": "code",
   "execution_count": 4,
   "id": "950a298b-023e-4880-ba43-f9ba530ab108",
   "metadata": {},
   "outputs": [
    {
     "name": "stdout",
     "output_type": "stream",
     "text": [
      "Running for eps = 0.05\n",
      "Elapsed time: 0.0000 seconds\n",
      "Running for eps = 0.02\n",
      "Elapsed time: 0.0000 seconds\n",
      "Running for eps = 0.01\n",
      "Elapsed time: 0.0000 seconds\n",
      "Running for eps = 0.005\n",
      "Elapsed time: 0.0000 seconds\n",
      "Running for eps = 0.002\n",
      "Elapsed time: 0.0000 seconds\n",
      "Running for eps = 0.001\n",
      "Elapsed time: 0.0000 seconds\n",
      "Running for eps = 0.0005\n",
      "Elapsed time: 0.0000 seconds\n",
      "Running for eps = 0.0001\n",
      "Elapsed time: 0.0000 seconds\n"
     ]
    }
   ],
   "source": [
    "import pandas as pd\n",
    "\n",
    "data = None\n",
    "if os.path.exists('atomic_models/fgsm.pkl'):\n",
    "    data = pd.read_pickle('atomic_models/fgsm.pkl')\n",
    "else:\n",
    "    data = pd.DataFrame(columns = ['epsilon', 'deterministic_training', 'deterministic_inference'])\n",
    "\n",
    "num_models=25\n",
    "\n",
    "completed = set(tuple(row) for row in data[['epsilon', 'deterministic_training', 'deterministic_inference']].to_records(index=False))\n",
    "#print(epsilon)\n",
    "for epsilon in [5e-2,2e-2,1e-2,5e-3,2e-3,1e-3,5e-4,1e-4]:\n",
    "    print(f\"Running for eps = {epsilon}\")\n",
    "    timer = Timer()\n",
    "    timer.start()\n",
    "    for train_mode in [False,True]:\n",
    "        for infer_mode in [False,True]:\n",
    "            params = {'epsilon': epsilon, 'deterministic_training': train_mode, 'deterministic_inference': infer_mode}\n",
    "            \n",
    "            if tuple(params.values()) in completed:\n",
    "                continue\n",
    "            else:\n",
    "                num_correct = run_fgsm(epsilon, train_mode, infer_mode)\n",
    "\n",
    "            params['num_correct']=num_correct\n",
    "            params = pd.DataFrame([params])\n",
    "            data = pd.concat([data, params], ignore_index=True)\n",
    "            data.to_pickle('atomic_models/fgsm.pkl')\n",
    "    #print(f\"num_correct was {num_correct}\")\n",
    "    timer.pstop()"
   ]
  },
  {
   "cell_type": "code",
   "execution_count": 47,
   "id": "c90c8e36-c069-4fb2-bc42-0575915253c1",
   "metadata": {},
   "outputs": [],
   "source": [
    "def get_errplt_data(training,inference):\n",
    "    fil = (data['deterministic_training'] == training) & (data['deterministic_inference'] == inference)\n",
    "    xdd, ydd = data[fil][['epsilon','num_correct']].T.values\n",
    "    ydd = np.array([a[:25]*100/len(test_loader) for a in ydd])\n",
    "    #print(xdd, ydd)\n",
    "    return xdd, np.mean(ydd,axis=1), np.std(ydd,axis=1)"
   ]
  },
  {
   "cell_type": "code",
   "execution_count": 51,
   "id": "3a2248c1-f2ec-46ba-9ce5-313fa8bcbb22",
   "metadata": {},
   "outputs": [
    {
     "data": {
      "image/png": "[encoded data removed]",
      "text/plain": [
       "<Figure size 640x480 with 1 Axes>"
      ]
     },
     "metadata": {},
     "output_type": "display_data"
    }
   ],
   "source": [
    "accuracies = np.load(\"atomic_models/accuracies.npy\")\n",
    "num_epochs=25\n",
    "num_models_trained=200\n",
    "num_models=25\n",
    "accuracies = np.reshape(accuracies, (num_models_trained,num_epochs))\n",
    "\n",
    "correct_mean = np.mean(accuracies[:num_models,-1])\n",
    "correct_err = np.std(accuracies[:num_models,-1])\n",
    "\n",
    "\n",
    "mklabel = lambda t,i: ('D' if t else 'ND') + ',' + ('D' if i else 'ND')\n",
    "for i, (train,inf) in enumerate([[True,False],[False,True],[False,False]]):\n",
    "    x,y,err = get_errplt_data(train,inf)\n",
    "    plt.errorbar(x+(i+1)*0.05*x,y,err,linestyle='None',marker='o', label=mklabel(train,inf))\n",
    "\n",
    "dI_dT_filter = (data['deterministic_training'] == True) & (data['deterministic_inference'] == True)\n",
    "xdd,ydd = data[dI_dT_filter][['epsilon','num_correct']].T.values\n",
    "ydd = np.array([a[0]*100/len(test_loader) for a in ydd])\n",
    "\n",
    "plt.plot(xdd,ydd,linestyle = 'None', marker='o', label=\"D,D\")\n",
    "plt.fill_between([0,1], correct_mean-correct_err, correct_mean+correct_err, alpha=0.2)\n",
    "plt.xscale('log')\n",
    "plt.xlim(1e-5,2e-2)\n",
    "plt.legend(loc='lower left')\n",
    "plt.ylim(94,97)\n",
    "plt.show()"
   ]
  },
  {
   "cell_type": "code",
   "execution_count": 52,
   "id": "1b593305-c834-43d1-a2d0-0d84666fddf7",
   "metadata": {},
   "outputs": [
    {
     "data": {
      "image/png": "[encoded data removed]",
      "text/plain": [
       "<Figure size 640x480 with 1 Axes>"
      ]
     },
     "metadata": {},
     "output_type": "display_data"
    }
   ],
   "source": [
    "accuracies = np.load(\"atomic_models/accuracies.npy\")\n",
    "num_epochs=25\n",
    "num_models_trained=200\n",
    "num_models=25\n",
    "accuracies = np.reshape(accuracies, (num_models_trained,num_epochs))\n",
    "\n",
    "correct_mean = np.mean(accuracies[:num_models,-1])\n",
    "correct_err = np.std(accuracies[:num_models,-1])\n",
    "\n",
    "\n",
    "mklabel = lambda t,i: ('D' if t else 'ND') + ',' + ('D' if i else 'ND')\n",
    "for i, (train,inf) in enumerate([[True,False],[False,True],[False,False]]):\n",
    "    x,y,err = get_errplt_data(train,inf)\n",
    "    plt.errorbar(x+(i+1)*0.05*x,y,err,linestyle='None',marker='o', label=mklabel(train,inf))\n",
    "\n",
    "dI_dT_filter = (data['deterministic_training'] == True) & (data['deterministic_inference'] == True)\n",
    "xdd,ydd = data[dI_dT_filter][['epsilon','num_correct']].T.values\n",
    "ydd = np.array([a[0]*100/len(test_loader) for a in ydd])\n",
    "\n",
    "plt.plot(xdd,ydd,linestyle = 'None', marker='o', label=\"D,D\")\n",
    "plt.fill_between([0,1], correct_mean-correct_err, correct_mean+correct_err, alpha=0.2)\n",
    "plt.xscale('log')\n",
    "plt.legend(loc='lower left')\n",
    "plt.show()"
   ]
  },
  {
   "cell_type": "code",
   "execution_count": null,
   "id": "3aa2cd19-f55e-467d-b65f-c769d56ef635",
   "metadata": {},
   "outputs": [],
   "source": []
  }
 ],
 "metadata": {
  "kernelspec": {
   "display_name": "Python 3 (ipykernel)",
   "language": "python",
   "name": "python3"
  },
  "language_info": {
   "codemirror_mode": {
    "name": "ipython",
    "version": 3
   },
   "file_extension": ".py",
   "mimetype": "text/x-python",
   "name": "python",
   "nbconvert_exporter": "python",
   "pygments_lexer": "ipython3",
   "version": "3.10.14"
  }
 },
 "nbformat": 4,
 "nbformat_minor": 5
}
