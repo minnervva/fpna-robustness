{
 "cells": [
  {
   "cell_type": "code",
   "execution_count": 1,
   "id": "7c228ad7-e071-4a7d-ad46-685aebf9d2e3",
   "metadata": {},
   "outputs": [],
   "source": [
    "import torch\n",
    "import time\n",
    "import numpy as np\n",
    "from linear_atomic import *\n",
    "from utilities import *\n",
    "\n",
    "def timing_fwd(layer, x):\n",
    "    eval_times = []\n",
    "    for i in range(10000):\n",
    "        start = time.time()\n",
    "        y=layer(x)\n",
    "        stop = time.time()\n",
    "        eval_times.append(stop-start)\n",
    "    eval_times = np.array(eval_times)[100:]*1_000\n",
    "    print(f\"{np.mean(eval_times)} +/- {np.std(eval_times)} ms\")\n",
    "\n",
    "def timing_bwd(layer, x):\n",
    "    criterion = torch.nn.CrossEntropyLoss()\n",
    "    eval_times = []\n",
    "    for i in range(10000):\n",
    "        start = time.time()\n",
    "        y=layer(x)\n",
    "        loss = criterion(y, torch.tensor([0,0,0,0,0]))\n",
    "        loss.backward()\n",
    "        stop = time.time()\n",
    "        eval_times.append(stop-start)\n",
    "    eval_times = np.array(eval_times)[100:]*1_000\n",
    "    print(f\"{np.mean(eval_times)} +/- {np.std(eval_times)} ms\")\n",
    "\n",
    "def verify(m1, m2, x):\n",
    "    for i in range(100):\n",
    "        with torch.no_grad():\n",
    "            # one order of magnitude smaller then default\n",
    "            assert torch.allclose(m1(x),m2(x))"
   ]
  },
  {
   "cell_type": "code",
   "execution_count": 2,
   "id": "ce15583d-12e9-462c-a19e-23271e00bb54",
   "metadata": {},
   "outputs": [],
   "source": [
    "x = torch.stack([torch.rand((50,)),torch.rand((50,)),torch.rand((50,)),torch.rand((50,)),torch.rand((50,))])\n",
    "torchlinear = torch.nn.Linear(50,5)\n",
    "assign_fixed_params(torchlinear)\n",
    "#tatomiclinear = AtomicLinearTorch(50,5)\n",
    "atomiclinear = AtomicLinear(50,5)\n",
    "assign_fixed_params(atomiclinear)\n",
    "#verify(torchlinear, tatomiclinear, x)\n",
    "verify(torchlinear, atomiclinear, x)"
   ]
  },
  {
   "cell_type": "code",
   "execution_count": 3,
   "id": "0d773b68-7768-4b47-90b7-a47377af4192",
   "metadata": {},
   "outputs": [
    {
     "name": "stdout",
     "output_type": "stream",
     "text": [
      "0.01210056170068606 +/- 0.006539036947144636 ms\n",
      "0.012019523466476287 +/- 0.00419139083020768 ms\n",
      "0.012140081386373501 +/- 0.007454046388700754 ms\n",
      "0.011664737354625355 +/- 0.0024179359891095906 ms\n"
     ]
    }
   ],
   "source": [
    "torchlinear.train()\n",
    "timing_fwd(torchlinear, x)\n",
    "timing_fwd(torchlinear, x)\n",
    "timing_fwd(torchlinear, x)\n",
    "timing_fwd(torchlinear, x)"
   ]
  },
  {
   "cell_type": "code",
   "execution_count": 4,
   "id": "8d15f06c-0718-40fa-9be5-d1874225108e",
   "metadata": {},
   "outputs": [
    {
     "name": "stdout",
     "output_type": "stream",
     "text": [
      "0.0506510879054214 +/- 0.008208702605867724 ms\n",
      "0.052216968151054 +/- 0.009567621694343578 ms\n",
      "0.05474940694943823 +/- 0.018164062326832413 ms\n",
      "0.051467587249447604 +/- 0.009452837395259926 ms\n"
     ]
    }
   ],
   "source": [
    "atomiclinear.train()\n",
    "timing_fwd(atomiclinear, x)\n",
    "timing_fwd(atomiclinear, x)\n",
    "timing_fwd(atomiclinear, x)\n",
    "timing_fwd(atomiclinear, x)"
   ]
  },
  {
   "cell_type": "code",
   "execution_count": 5,
   "id": "1d5ce3c3-0559-4977-af88-ca7c8b4d1760",
   "metadata": {},
   "outputs": [
    {
     "name": "stderr",
     "output_type": "stream",
     "text": [
      "/home/cculver/anaconda3/envs/generalml/lib/python3.10/site-packages/torch/autograd/graph.py:744: UserWarning: CUDA initialization: The NVIDIA driver on your system is too old (found version 11070). Please update your GPU driver by downloading and installing a new version from the URL: http://www.nvidia.com/Download/index.aspx Alternatively, go to: https://pytorch.org to install a PyTorch version that has been compiled with your version of the CUDA driver. (Triggered internally at ../c10/cuda/CUDAFunctions.cpp:108.)\n",
      "  return Variable._execution_engine.run_backward(  # Calls into the C++ engine to run the backward pass\n"
     ]
    },
    {
     "name": "stdout",
     "output_type": "stream",
     "text": [
      "0.132609015763408 +/- 0.02686646575764254 ms\n",
      "0.1340988910559452 +/- 0.019778505688054143 ms\n",
      "0.13396706243958137 +/- 0.033465481558104984 ms\n",
      "0.14896775736953272 +/- 0.10048259670002613 ms\n"
     ]
    }
   ],
   "source": [
    "torchlinear.train()\n",
    "timing_bwd(torchlinear, x)\n",
    "timing_bwd(torchlinear, x)\n",
    "timing_bwd(torchlinear, x)\n",
    "timing_bwd(torchlinear, x)"
   ]
  },
  {
   "cell_type": "code",
   "execution_count": 6,
   "id": "bad3a183-d6ab-49f7-a0e9-e6c4168244b0",
   "metadata": {},
   "outputs": [
    {
     "name": "stdout",
     "output_type": "stream",
     "text": [
      "0.18504224642358644 +/- 0.025913288807389006 ms\n",
      "0.18506413758403123 +/- 0.029830971279655907 ms\n",
      "0.18878874152597755 +/- 0.029151304595182576 ms\n",
      "0.1903938524650805 +/- 0.03263770293720678 ms\n"
     ]
    }
   ],
   "source": [
    "atomiclinear.train()\n",
    "timing_bwd(atomiclinear, x)\n",
    "timing_bwd(atomiclinear, x)\n",
    "timing_bwd(atomiclinear, x)\n",
    "timing_bwd(atomiclinear, x)"
   ]
  },
  {
   "cell_type": "code",
   "execution_count": null,
   "id": "932a80a2-bdb0-4533-9023-50a383da4ce9",
   "metadata": {},
   "outputs": [],
   "source": []
  },
  {
   "cell_type": "code",
   "execution_count": 4,
   "id": "6f46434f-cba3-40f9-b0cd-437da75bda13",
   "metadata": {},
   "outputs": [],
   "source": [
    "base = atomiclinear(x)"
   ]
  },
  {
   "cell_type": "code",
   "execution_count": 5,
   "id": "8db380f7-e56a-4b58-8a24-7e407016fd03",
   "metadata": {},
   "outputs": [
    {
     "name": "stdout",
     "output_type": "stream",
     "text": [
      "tensor(9.2387e-07, grad_fn=<SumBackward0>)\n",
      "tensor(8.1956e-08, grad_fn=<SumBackward0>)\n",
      "tensor(-1.6093e-06, grad_fn=<SumBackward0>)\n",
      "tensor(1.6689e-06, grad_fn=<SumBackward0>)\n",
      "tensor(2.9802e-07, grad_fn=<SumBackward0>)\n",
      "tensor(5.9605e-07, grad_fn=<SumBackward0>)\n",
      "tensor(3.4571e-06, grad_fn=<SumBackward0>)\n",
      "tensor(1.7881e-07, grad_fn=<SumBackward0>)\n",
      "tensor(1.6093e-06, grad_fn=<SumBackward0>)\n",
      "tensor(1.6093e-06, grad_fn=<SumBackward0>)\n",
      "tensor(-2.3842e-07, grad_fn=<SumBackward0>)\n",
      "tensor(4.1723e-07, grad_fn=<SumBackward0>)\n",
      "tensor(2.6226e-06, grad_fn=<SumBackward0>)\n",
      "tensor(-3.5763e-07, grad_fn=<SumBackward0>)\n",
      "tensor(3.4273e-06, grad_fn=<SumBackward0>)\n",
      "tensor(-5.3644e-07, grad_fn=<SumBackward0>)\n",
      "tensor(2.5928e-06, grad_fn=<SumBackward0>)\n",
      "tensor(6.5565e-07, grad_fn=<SumBackward0>)\n",
      "tensor(2.1458e-06, grad_fn=<SumBackward0>)\n",
      "tensor(1.5795e-06, grad_fn=<SumBackward0>)\n",
      "tensor(-2.6226e-06, grad_fn=<SumBackward0>)\n",
      "tensor(1.7285e-06, grad_fn=<SumBackward0>)\n",
      "tensor(5.9605e-07, grad_fn=<SumBackward0>)\n",
      "tensor(1.7285e-06, grad_fn=<SumBackward0>)\n",
      "tensor(1.1325e-06, grad_fn=<SumBackward0>)\n",
      "tensor(-5.9605e-08, grad_fn=<SumBackward0>)\n",
      "tensor(2.2650e-06, grad_fn=<SumBackward0>)\n",
      "tensor(4.3213e-06, grad_fn=<SumBackward0>)\n",
      "tensor(-1.0580e-06, grad_fn=<SumBackward0>)\n",
      "tensor(2.4438e-06, grad_fn=<SumBackward0>)\n",
      "tensor(8.0466e-07, grad_fn=<SumBackward0>)\n",
      "tensor(1.3709e-06, grad_fn=<SumBackward0>)\n",
      "tensor(2.8312e-06, grad_fn=<SumBackward0>)\n",
      "tensor(1.9073e-06, grad_fn=<SumBackward0>)\n",
      "tensor(-5.9605e-08, grad_fn=<SumBackward0>)\n",
      "tensor(1.5497e-06, grad_fn=<SumBackward0>)\n",
      "tensor(2.2054e-06, grad_fn=<SumBackward0>)\n",
      "tensor(1.2815e-06, grad_fn=<SumBackward0>)\n",
      "tensor(5.3644e-07, grad_fn=<SumBackward0>)\n",
      "tensor(-1.3113e-06, grad_fn=<SumBackward0>)\n",
      "tensor(-1.7285e-06, grad_fn=<SumBackward0>)\n",
      "tensor(5.9605e-07, grad_fn=<SumBackward0>)\n",
      "tensor(-1.7881e-07, grad_fn=<SumBackward0>)\n",
      "tensor(2.1458e-06, grad_fn=<SumBackward0>)\n",
      "tensor(-1.7881e-07, grad_fn=<SumBackward0>)\n",
      "tensor(2.4438e-06, grad_fn=<SumBackward0>)\n",
      "tensor(-3.0398e-06, grad_fn=<SumBackward0>)\n",
      "tensor(7.1526e-07, grad_fn=<SumBackward0>)\n",
      "tensor(4.1723e-07, grad_fn=<SumBackward0>)\n",
      "tensor(3.5763e-07, grad_fn=<SumBackward0>)\n",
      "tensor(2.8312e-06, grad_fn=<SumBackward0>)\n",
      "tensor(1.8477e-06, grad_fn=<SumBackward0>)\n",
      "tensor(-1.1325e-06, grad_fn=<SumBackward0>)\n",
      "tensor(2.4736e-06, grad_fn=<SumBackward0>)\n",
      "tensor(3.2634e-06, grad_fn=<SumBackward0>)\n",
      "tensor(-1.4901e-06, grad_fn=<SumBackward0>)\n",
      "tensor(3.4571e-06, grad_fn=<SumBackward0>)\n",
      "tensor(-1.5497e-06, grad_fn=<SumBackward0>)\n",
      "tensor(2.0266e-06, grad_fn=<SumBackward0>)\n",
      "tensor(-3.2783e-07, grad_fn=<SumBackward0>)\n",
      "tensor(2.8908e-06, grad_fn=<SumBackward0>)\n",
      "tensor(8.9407e-07, grad_fn=<SumBackward0>)\n",
      "tensor(2.4438e-06, grad_fn=<SumBackward0>)\n",
      "tensor(2.5630e-06, grad_fn=<SumBackward0>)\n",
      "tensor(3.3975e-06, grad_fn=<SumBackward0>)\n",
      "tensor(-4.7684e-07, grad_fn=<SumBackward0>)\n",
      "tensor(1.7881e-07, grad_fn=<SumBackward0>)\n",
      "tensor(1.1921e-06, grad_fn=<SumBackward0>)\n",
      "tensor(1.8477e-06, grad_fn=<SumBackward0>)\n",
      "tensor(1.1325e-06, grad_fn=<SumBackward0>)\n",
      "tensor(2.3246e-06, grad_fn=<SumBackward0>)\n",
      "tensor(-9.5367e-07, grad_fn=<SumBackward0>)\n",
      "tensor(-8.3447e-07, grad_fn=<SumBackward0>)\n",
      "tensor(-5.3644e-07, grad_fn=<SumBackward0>)\n",
      "tensor(2.0117e-07, grad_fn=<SumBackward0>)\n",
      "tensor(-1.2517e-06, grad_fn=<SumBackward0>)\n",
      "tensor(1.6689e-06, grad_fn=<SumBackward0>)\n",
      "tensor(1.1325e-06, grad_fn=<SumBackward0>)\n",
      "tensor(1.0133e-06, grad_fn=<SumBackward0>)\n",
      "tensor(4.1127e-06, grad_fn=<SumBackward0>)\n",
      "tensor(1.7881e-07, grad_fn=<SumBackward0>)\n",
      "tensor(-8.9407e-08, grad_fn=<SumBackward0>)\n",
      "tensor(2.7120e-06, grad_fn=<SumBackward0>)\n",
      "tensor(1.3113e-06, grad_fn=<SumBackward0>)\n",
      "tensor(6.5565e-07, grad_fn=<SumBackward0>)\n",
      "tensor(2.3842e-07, grad_fn=<SumBackward0>)\n",
      "tensor(2.9802e-08, grad_fn=<SumBackward0>)\n",
      "tensor(7.4506e-07, grad_fn=<SumBackward0>)\n",
      "tensor(-3.5763e-07, grad_fn=<SumBackward0>)\n",
      "tensor(1.7881e-07, grad_fn=<SumBackward0>)\n",
      "tensor(1.2517e-06, grad_fn=<SumBackward0>)\n",
      "tensor(-4.1723e-06, grad_fn=<SumBackward0>)\n",
      "tensor(1.1027e-06, grad_fn=<SumBackward0>)\n",
      "tensor(-1.1921e-07, grad_fn=<SumBackward0>)\n",
      "tensor(1.9073e-06, grad_fn=<SumBackward0>)\n",
      "tensor(2.0266e-06, grad_fn=<SumBackward0>)\n",
      "tensor(8.0466e-07, grad_fn=<SumBackward0>)\n",
      "tensor(-7.1526e-07, grad_fn=<SumBackward0>)\n",
      "tensor(3.2783e-06, grad_fn=<SumBackward0>)\n",
      "tensor(2.0564e-06, grad_fn=<SumBackward0>)\n"
     ]
    }
   ],
   "source": [
    "for i in range(100):\n",
    "    print(torch.sum(atomiclinear(x)-base))"
   ]
  },
  {
   "cell_type": "code",
   "execution_count": null,
   "id": "524a418e-ce65-452b-b848-894d5353227b",
   "metadata": {},
   "outputs": [],
   "source": []
  },
  {
   "cell_type": "code",
   "execution_count": null,
   "id": "1ed5dc26-17c0-4be8-a0d0-5d9334759f6b",
   "metadata": {},
   "outputs": [],
   "source": []
  },
  {
   "cell_type": "code",
   "execution_count": null,
   "id": "abc68064-161a-4836-88de-4c2a44ab2331",
   "metadata": {},
   "outputs": [],
   "source": []
  },
  {
   "cell_type": "code",
   "execution_count": null,
   "id": "1bc15a33-a787-4c0a-94b8-9b9a4f37def9",
   "metadata": {},
   "outputs": [],
   "source": []
  },
  {
   "cell_type": "code",
   "execution_count": 7,
   "id": "f4975441-0ab0-4edd-926c-661d11f2d781",
   "metadata": {},
   "outputs": [],
   "source": [
    "x = torch.stack([torch.rand((10,)),torch.rand((10,))])\n",
    "nam = Classifier(False, 10, 2, 40)\n",
    "am = Classifier(True, 10, 2, 40)"
   ]
  },
  {
   "cell_type": "code",
   "execution_count": 8,
   "id": "797e6edb-8ce6-46ff-9846-c8ba3e1a4f43",
   "metadata": {},
   "outputs": [
    {
     "data": {
      "text/plain": [
       "tensor([[-1.0121, -3.1367],\n",
       "        [ 6.2277, 11.6180]], grad_fn=<AddmmBackward0>)"
      ]
     },
     "execution_count": 8,
     "metadata": {},
     "output_type": "execute_result"
    }
   ],
   "source": [
    "nam(x)"
   ]
  },
  {
   "cell_type": "code",
   "execution_count": 9,
   "id": "27453add-fffe-4b33-b432-6fd70c7c1325",
   "metadata": {},
   "outputs": [
    {
     "data": {
      "text/plain": [
       "tensor([[-1.0121, -3.1367],\n",
       "        [ 6.2277, 11.6180]], grad_fn=<AddBackward0>)"
      ]
     },
     "execution_count": 9,
     "metadata": {},
     "output_type": "execute_result"
    }
   ],
   "source": [
    "am(x)"
   ]
  },
  {
   "cell_type": "code",
   "execution_count": 10,
   "id": "da5e76eb-4169-4a91-99e9-8a59044a0f6a",
   "metadata": {},
   "outputs": [
    {
     "name": "stdout",
     "output_type": "stream",
     "text": [
      "tensor(7.1526e-06, grad_fn=<SumBackward0>)\n",
      "tensor(8.1062e-06, grad_fn=<SumBackward0>)\n",
      "tensor(9.2983e-06, grad_fn=<SumBackward0>)\n",
      "tensor(6.4373e-06, grad_fn=<SumBackward0>)\n",
      "tensor(6.1989e-06, grad_fn=<SumBackward0>)\n",
      "tensor(7.1526e-07, grad_fn=<SumBackward0>)\n",
      "tensor(4.7684e-06, grad_fn=<SumBackward0>)\n",
      "tensor(0., grad_fn=<SumBackward0>)\n",
      "tensor(3.8147e-06, grad_fn=<SumBackward0>)\n",
      "tensor(2.3842e-06, grad_fn=<SumBackward0>)\n",
      "tensor(6.4373e-06, grad_fn=<SumBackward0>)\n",
      "tensor(6.6757e-06, grad_fn=<SumBackward0>)\n",
      "tensor(-3.8147e-06, grad_fn=<SumBackward0>)\n",
      "tensor(7.6294e-06, grad_fn=<SumBackward0>)\n",
      "tensor(8.5831e-06, grad_fn=<SumBackward0>)\n",
      "tensor(5.4836e-06, grad_fn=<SumBackward0>)\n",
      "tensor(6.4373e-06, grad_fn=<SumBackward0>)\n",
      "tensor(8.8215e-06, grad_fn=<SumBackward0>)\n",
      "tensor(3.0994e-06, grad_fn=<SumBackward0>)\n",
      "tensor(9.0599e-06, grad_fn=<SumBackward0>)\n"
     ]
    }
   ],
   "source": [
    "base = am(x)\n",
    "for i in range(20):\n",
    "    print(torch.sum(am(x) - base))"
   ]
  },
  {
   "cell_type": "code",
   "execution_count": null,
   "id": "10922def-b490-45ac-99d1-64cf6b7eaf04",
   "metadata": {},
   "outputs": [],
   "source": []
  },
  {
   "cell_type": "markdown",
   "id": "55b4dbed",
   "metadata": {},
   "source": [
    "## Try\n",
    "\n",
    "[:, None, :]\n",
    "\n",
    "vs \n",
    "\n",
    ".unsqueeze(dim=1) \n",
    "\n",
    "timing difference?"
   ]
  },
  {
   "cell_type": "markdown",
   "id": "0453b997",
   "metadata": {},
   "source": []
  }
 ],
 "metadata": {
  "kernelspec": {
   "display_name": "Python 3 (ipykernel)",
   "language": "python",
   "name": "python3"
  },
  "language_info": {
   "codemirror_mode": {
    "name": "ipython",
    "version": 3
   },
   "file_extension": ".py",
   "mimetype": "text/x-python",
   "name": "python",
   "nbconvert_exporter": "python",
   "pygments_lexer": "ipython3",
   "version": "3.10.14"
  }
 },
 "nbformat": 4,
 "nbformat_minor": 5
}
